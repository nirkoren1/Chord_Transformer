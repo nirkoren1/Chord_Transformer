{
  "nbformat": 4,
  "nbformat_minor": 0,
  "metadata": {
    "colab": {
      "provenance": [],
      "collapsed_sections": [],
      "mount_file_id": "1UKRE8OORHkh1vVEoPDa0n46dlCFshPXA",
      "authorship_tag": "ABX9TyPaSW8uuTBiAEmncPpM244m",
      "include_colab_link": true
    },
    "kernelspec": {
      "name": "python3",
      "display_name": "Python 3"
    },
    "language_info": {
      "name": "python"
    }
  },
  "cells": [
    {
      "cell_type": "markdown",
      "metadata": {
        "id": "view-in-github",
        "colab_type": "text"
      },
      "source": [
        "<a href=\"https://colab.research.google.com/github/nirkoren1/Chord_Transformer/blob/master/chord_tokenizers.ipynb\" target=\"_parent\"><img src=\"https://colab.research.google.com/assets/colab-badge.svg\" alt=\"Open In Colab\"/></a>"
      ]
    },
    {
      "cell_type": "code",
      "source": [
        "!pip install pickle5\n",
        "!pip uninstall -y -q tensorflow keras tensorflow-estimator tensorflow-text\n",
        "!pip install -q -U tensorflow-text tensorflow"
      ],
      "metadata": {
        "colab": {
          "base_uri": "https://localhost:8080/"
        },
        "id": "FgZZlEa1l0vy",
        "outputId": "029caea4-cabe-4edd-9f30-6b4e9d1264a5"
      },
      "execution_count": null,
      "outputs": [
        {
          "output_type": "stream",
          "name": "stdout",
          "text": [
            "Looking in indexes: https://pypi.org/simple, https://us-python.pkg.dev/colab-wheels/public/simple/\n",
            "Requirement already satisfied: pickle5 in /usr/local/lib/python3.7/dist-packages (0.0.12)\n"
          ]
        }
      ]
    },
    {
      "cell_type": "code",
      "source": [
        "import pickle5\n",
        "import tensorflow_text as text\n",
        "from tensorflow_text.tools.wordpiece_vocab import bert_vocab_from_dataset as bert_vocab\n",
        "import tensorflow as tf\n",
        "import re\n",
        "import pathlib"
      ],
      "metadata": {
        "id": "Jw-eeMrflgQK"
      },
      "execution_count": null,
      "outputs": []
    },
    {
      "cell_type": "code",
      "source": [
        "with open(\"/content/drive/MyDrive/Colab Notebooks/data.pickle\", 'rb') as f:\n",
        "  df = pickle5.load(f)\n",
        "df"
      ],
      "metadata": {
        "colab": {
          "base_uri": "https://localhost:8080/",
          "height": 424
        },
        "id": "Mz7qFL7clMpt",
        "outputId": "43564372-653d-4bbf-9b6d-e063ee3acbe1"
      },
      "execution_count": null,
      "outputs": [
        {
          "output_type": "execute_result",
          "data": {
            "text/plain": [
              "                                                   genres  popularity  \\\n",
              "0                      [canadian pop, pop, post-teen pop]         100   \n",
              "1                      [canadian pop, pop, post-teen pop]         100   \n",
              "2                      [canadian pop, pop, post-teen pop]         100   \n",
              "3                      [canadian pop, pop, post-teen pop]         100   \n",
              "4                      [canadian pop, pop, post-teen pop]         100   \n",
              "...                                                   ...         ...   \n",
              "135777  [classic rock, folk, folk rock, melancholia, m...          76   \n",
              "135778  [classic rock, folk, folk rock, melancholia, m...          76   \n",
              "135780  [classic rock, folk, folk rock, melancholia, m...          76   \n",
              "135781  [classic rock, folk, folk rock, melancholia, m...          76   \n",
              "135782  [classic rock, folk, folk rock, melancholia, m...          76   \n",
              "\n",
              "                                                   chords  \\\n",
              "0       [G, G/B, B, C, G, G, G/B, B, C, G, G, Em, C, G...   \n",
              "1       [F#m7, D2, F#m7, D2, F#m7, D2, E, F#m7, A/C#, ...   \n",
              "2       [Em, D, C, C, D, Em, Em, D, C, C, D, Em, Em, D...   \n",
              "3       [Em, Bm, Am, C, Em, Bm, Am, C, Em, Bm, Am, C, ...   \n",
              "4       [Gm, Dm, C, C, Gm, Dm, C, C, Gm, Dm, C, C, Gm,...   \n",
              "...                                                   ...   \n",
              "135777  [C, Am, F, G, C, Am, F, G, C, Am, F, G, C, Am,...   \n",
              "135778  [B, E, B, E, B, E, F#, E, B, F#, E, B, E, B, E...   \n",
              "135780  [Dm, C, Dm, F, Bb, F, Bb, F, Bb, F, Dm, F, C, ...   \n",
              "135781  [G, Em, C, G, G, Am, C, D, G, Em, C, G, G, Am,...   \n",
              "135782  [D, F, G, F, D, F, G, F, D, F, G, F, D, F, G, ...   \n",
              "\n",
              "                                            training_data  \n",
              "0       [<start-genres>, canadian pop, pop, post-teen ...  \n",
              "1       [<start-genres>, canadian pop, pop, post-teen ...  \n",
              "2       [<start-genres>, canadian pop, pop, post-teen ...  \n",
              "3       [<start-genres>, canadian pop, pop, post-teen ...  \n",
              "4       [<start-genres>, canadian pop, pop, post-teen ...  \n",
              "...                                                   ...  \n",
              "135777  [<start-genres>, classic rock, folk, folk rock...  \n",
              "135778  [<start-genres>, classic rock, folk, folk rock...  \n",
              "135780  [<start-genres>, classic rock, folk, folk rock...  \n",
              "135781  [<start-genres>, classic rock, folk, folk rock...  \n",
              "135782  [<start-genres>, classic rock, folk, folk rock...  \n",
              "\n",
              "[116203 rows x 4 columns]"
            ],
            "text/html": [
              "\n",
              "  <div id=\"df-4977d483-a804-4562-88c5-e7287907459c\">\n",
              "    <div class=\"colab-df-container\">\n",
              "      <div>\n",
              "<style scoped>\n",
              "    .dataframe tbody tr th:only-of-type {\n",
              "        vertical-align: middle;\n",
              "    }\n",
              "\n",
              "    .dataframe tbody tr th {\n",
              "        vertical-align: top;\n",
              "    }\n",
              "\n",
              "    .dataframe thead th {\n",
              "        text-align: right;\n",
              "    }\n",
              "</style>\n",
              "<table border=\"1\" class=\"dataframe\">\n",
              "  <thead>\n",
              "    <tr style=\"text-align: right;\">\n",
              "      <th></th>\n",
              "      <th>genres</th>\n",
              "      <th>popularity</th>\n",
              "      <th>chords</th>\n",
              "      <th>training_data</th>\n",
              "    </tr>\n",
              "  </thead>\n",
              "  <tbody>\n",
              "    <tr>\n",
              "      <th>0</th>\n",
              "      <td>[canadian pop, pop, post-teen pop]</td>\n",
              "      <td>100</td>\n",
              "      <td>[G, G/B, B, C, G, G, G/B, B, C, G, G, Em, C, G...</td>\n",
              "      <td>[&lt;start-genres&gt;, canadian pop, pop, post-teen ...</td>\n",
              "    </tr>\n",
              "    <tr>\n",
              "      <th>1</th>\n",
              "      <td>[canadian pop, pop, post-teen pop]</td>\n",
              "      <td>100</td>\n",
              "      <td>[F#m7, D2, F#m7, D2, F#m7, D2, E, F#m7, A/C#, ...</td>\n",
              "      <td>[&lt;start-genres&gt;, canadian pop, pop, post-teen ...</td>\n",
              "    </tr>\n",
              "    <tr>\n",
              "      <th>2</th>\n",
              "      <td>[canadian pop, pop, post-teen pop]</td>\n",
              "      <td>100</td>\n",
              "      <td>[Em, D, C, C, D, Em, Em, D, C, C, D, Em, Em, D...</td>\n",
              "      <td>[&lt;start-genres&gt;, canadian pop, pop, post-teen ...</td>\n",
              "    </tr>\n",
              "    <tr>\n",
              "      <th>3</th>\n",
              "      <td>[canadian pop, pop, post-teen pop]</td>\n",
              "      <td>100</td>\n",
              "      <td>[Em, Bm, Am, C, Em, Bm, Am, C, Em, Bm, Am, C, ...</td>\n",
              "      <td>[&lt;start-genres&gt;, canadian pop, pop, post-teen ...</td>\n",
              "    </tr>\n",
              "    <tr>\n",
              "      <th>4</th>\n",
              "      <td>[canadian pop, pop, post-teen pop]</td>\n",
              "      <td>100</td>\n",
              "      <td>[Gm, Dm, C, C, Gm, Dm, C, C, Gm, Dm, C, C, Gm,...</td>\n",
              "      <td>[&lt;start-genres&gt;, canadian pop, pop, post-teen ...</td>\n",
              "    </tr>\n",
              "    <tr>\n",
              "      <th>...</th>\n",
              "      <td>...</td>\n",
              "      <td>...</td>\n",
              "      <td>...</td>\n",
              "      <td>...</td>\n",
              "    </tr>\n",
              "    <tr>\n",
              "      <th>135777</th>\n",
              "      <td>[classic rock, folk, folk rock, melancholia, m...</td>\n",
              "      <td>76</td>\n",
              "      <td>[C, Am, F, G, C, Am, F, G, C, Am, F, G, C, Am,...</td>\n",
              "      <td>[&lt;start-genres&gt;, classic rock, folk, folk rock...</td>\n",
              "    </tr>\n",
              "    <tr>\n",
              "      <th>135778</th>\n",
              "      <td>[classic rock, folk, folk rock, melancholia, m...</td>\n",
              "      <td>76</td>\n",
              "      <td>[B, E, B, E, B, E, F#, E, B, F#, E, B, E, B, E...</td>\n",
              "      <td>[&lt;start-genres&gt;, classic rock, folk, folk rock...</td>\n",
              "    </tr>\n",
              "    <tr>\n",
              "      <th>135780</th>\n",
              "      <td>[classic rock, folk, folk rock, melancholia, m...</td>\n",
              "      <td>76</td>\n",
              "      <td>[Dm, C, Dm, F, Bb, F, Bb, F, Bb, F, Dm, F, C, ...</td>\n",
              "      <td>[&lt;start-genres&gt;, classic rock, folk, folk rock...</td>\n",
              "    </tr>\n",
              "    <tr>\n",
              "      <th>135781</th>\n",
              "      <td>[classic rock, folk, folk rock, melancholia, m...</td>\n",
              "      <td>76</td>\n",
              "      <td>[G, Em, C, G, G, Am, C, D, G, Em, C, G, G, Am,...</td>\n",
              "      <td>[&lt;start-genres&gt;, classic rock, folk, folk rock...</td>\n",
              "    </tr>\n",
              "    <tr>\n",
              "      <th>135782</th>\n",
              "      <td>[classic rock, folk, folk rock, melancholia, m...</td>\n",
              "      <td>76</td>\n",
              "      <td>[D, F, G, F, D, F, G, F, D, F, G, F, D, F, G, ...</td>\n",
              "      <td>[&lt;start-genres&gt;, classic rock, folk, folk rock...</td>\n",
              "    </tr>\n",
              "  </tbody>\n",
              "</table>\n",
              "<p>116203 rows × 4 columns</p>\n",
              "</div>\n",
              "      <button class=\"colab-df-convert\" onclick=\"convertToInteractive('df-4977d483-a804-4562-88c5-e7287907459c')\"\n",
              "              title=\"Convert this dataframe to an interactive table.\"\n",
              "              style=\"display:none;\">\n",
              "        \n",
              "  <svg xmlns=\"http://www.w3.org/2000/svg\" height=\"24px\"viewBox=\"0 0 24 24\"\n",
              "       width=\"24px\">\n",
              "    <path d=\"M0 0h24v24H0V0z\" fill=\"none\"/>\n",
              "    <path d=\"M18.56 5.44l.94 2.06.94-2.06 2.06-.94-2.06-.94-.94-2.06-.94 2.06-2.06.94zm-11 1L8.5 8.5l.94-2.06 2.06-.94-2.06-.94L8.5 2.5l-.94 2.06-2.06.94zm10 10l.94 2.06.94-2.06 2.06-.94-2.06-.94-.94-2.06-.94 2.06-2.06.94z\"/><path d=\"M17.41 7.96l-1.37-1.37c-.4-.4-.92-.59-1.43-.59-.52 0-1.04.2-1.43.59L10.3 9.45l-7.72 7.72c-.78.78-.78 2.05 0 2.83L4 21.41c.39.39.9.59 1.41.59.51 0 1.02-.2 1.41-.59l7.78-7.78 2.81-2.81c.8-.78.8-2.07 0-2.86zM5.41 20L4 18.59l7.72-7.72 1.47 1.35L5.41 20z\"/>\n",
              "  </svg>\n",
              "      </button>\n",
              "      \n",
              "  <style>\n",
              "    .colab-df-container {\n",
              "      display:flex;\n",
              "      flex-wrap:wrap;\n",
              "      gap: 12px;\n",
              "    }\n",
              "\n",
              "    .colab-df-convert {\n",
              "      background-color: #E8F0FE;\n",
              "      border: none;\n",
              "      border-radius: 50%;\n",
              "      cursor: pointer;\n",
              "      display: none;\n",
              "      fill: #1967D2;\n",
              "      height: 32px;\n",
              "      padding: 0 0 0 0;\n",
              "      width: 32px;\n",
              "    }\n",
              "\n",
              "    .colab-df-convert:hover {\n",
              "      background-color: #E2EBFA;\n",
              "      box-shadow: 0px 1px 2px rgba(60, 64, 67, 0.3), 0px 1px 3px 1px rgba(60, 64, 67, 0.15);\n",
              "      fill: #174EA6;\n",
              "    }\n",
              "\n",
              "    [theme=dark] .colab-df-convert {\n",
              "      background-color: #3B4455;\n",
              "      fill: #D2E3FC;\n",
              "    }\n",
              "\n",
              "    [theme=dark] .colab-df-convert:hover {\n",
              "      background-color: #434B5C;\n",
              "      box-shadow: 0px 1px 3px 1px rgba(0, 0, 0, 0.15);\n",
              "      filter: drop-shadow(0px 1px 2px rgba(0, 0, 0, 0.3));\n",
              "      fill: #FFFFFF;\n",
              "    }\n",
              "  </style>\n",
              "\n",
              "      <script>\n",
              "        const buttonEl =\n",
              "          document.querySelector('#df-4977d483-a804-4562-88c5-e7287907459c button.colab-df-convert');\n",
              "        buttonEl.style.display =\n",
              "          google.colab.kernel.accessAllowed ? 'block' : 'none';\n",
              "\n",
              "        async function convertToInteractive(key) {\n",
              "          const element = document.querySelector('#df-4977d483-a804-4562-88c5-e7287907459c');\n",
              "          const dataTable =\n",
              "            await google.colab.kernel.invokeFunction('convertToInteractive',\n",
              "                                                     [key], {});\n",
              "          if (!dataTable) return;\n",
              "\n",
              "          const docLinkHtml = 'Like what you see? Visit the ' +\n",
              "            '<a target=\"_blank\" href=https://colab.research.google.com/notebooks/data_table.ipynb>data table notebook</a>'\n",
              "            + ' to learn more about interactive tables.';\n",
              "          element.innerHTML = '';\n",
              "          dataTable['output_type'] = 'display_data';\n",
              "          await google.colab.output.renderOutput(dataTable, element);\n",
              "          const docLink = document.createElement('div');\n",
              "          docLink.innerHTML = docLinkHtml;\n",
              "          element.appendChild(docLink);\n",
              "        }\n",
              "      </script>\n",
              "    </div>\n",
              "  </div>\n",
              "  "
            ]
          },
          "metadata": {},
          "execution_count": 32
        }
      ]
    },
    {
      "cell_type": "code",
      "source": [
        "train_ch = []\n",
        "train_ge = []\n",
        "for index, row in df.iterrows():\n",
        "  genres = row[\"genres\"]\n",
        "  genres_connected = \"\"\n",
        "  for genre in genres:\n",
        "    genres_connected += (genre + \" \")\n",
        "  genres_connected = genres_connected[:-1]\n",
        "  train_ge.append(genres_connected)\n",
        "\n",
        "  chords = row[\"chords\"]\n",
        "  chords_connected = \"\"\n",
        "  for chord in chords:\n",
        "    chords_connected += (chord + \" \")\n",
        "  chords_connected = chords_connected[:-1]\n",
        "  train_ch.append(chords_connected)"
      ],
      "metadata": {
        "id": "LCdRP144m2Gm"
      },
      "execution_count": null,
      "outputs": []
    },
    {
      "cell_type": "code",
      "source": [
        "train_ch = tf.data.Dataset.from_tensor_slices(train_ch)\n",
        "train_ge = tf.data.Dataset.from_tensor_slices(train_ge)\n",
        "train_ch"
      ],
      "metadata": {
        "colab": {
          "base_uri": "https://localhost:8080/"
        },
        "id": "CIoi6coMqz5W",
        "outputId": "c7e35e32-6367-4a38-a42f-2504469a9eb7"
      },
      "execution_count": null,
      "outputs": [
        {
          "output_type": "execute_result",
          "data": {
            "text/plain": [
              "<TensorSliceDataset element_spec=TensorSpec(shape=(), dtype=tf.string, name=None)>"
            ]
          },
          "metadata": {},
          "execution_count": 34
        }
      ]
    },
    {
      "cell_type": "code",
      "source": [
        "bert_tokenizer_params=dict(lower_case=True)\n",
        "reserved_tokens=[\"[PAD]\", \"[UNK]\", \"[START]\", \"[END]\"]\n",
        "\n",
        "bert_vocab_args_chords = dict(\n",
        "    # The target vocabulary size\n",
        "    vocab_size = 1000,\n",
        "    # Reserved tokens that must be included in the vocabulary\n",
        "    reserved_tokens=reserved_tokens,\n",
        "    # Arguments for `text.BertTokenizer`\n",
        "    bert_tokenizer_params=bert_tokenizer_params,\n",
        "    # Arguments for `wordpiece_vocab.wordpiece_tokenizer_learner_lib.learn`\n",
        "    learn_params={},\n",
        ")\n",
        "\n",
        "bert_vocab_args_genres = dict(\n",
        "    # The target vocabulary size\n",
        "    vocab_size = 8000,\n",
        "    # Reserved tokens that must be included in the vocabulary\n",
        "    reserved_tokens=reserved_tokens,\n",
        "    # Arguments for `text.BertTokenizer`\n",
        "    bert_tokenizer_params=bert_tokenizer_params,\n",
        "    # Arguments for `wordpiece_vocab.wordpiece_tokenizer_learner_lib.learn`\n",
        "    learn_params={},\n",
        ")"
      ],
      "metadata": {
        "id": "_Q2-5dDg59rD"
      },
      "execution_count": null,
      "outputs": []
    },
    {
      "cell_type": "code",
      "source": [
        "ge_vocab = bert_vocab.bert_vocab_from_dataset(\n",
        "    train_ge.batch(1000).prefetch(2),\n",
        "    **bert_vocab_args_genres\n",
        ")"
      ],
      "metadata": {
        "id": "qX7ejmB76AOj"
      },
      "execution_count": null,
      "outputs": []
    },
    {
      "cell_type": "code",
      "source": [
        "def write_vocab_file(filepath, vocab):\n",
        "  with open(filepath, 'w') as f:\n",
        "    for token in vocab:\n",
        "      print(token, file=f)\n",
        "write_vocab_file('ge_vocab.txt', ge_vocab)"
      ],
      "metadata": {
        "id": "Q6Hk3SBA6B6h"
      },
      "execution_count": null,
      "outputs": []
    },
    {
      "cell_type": "code",
      "source": [
        "ch_vocab = bert_vocab.bert_vocab_from_dataset(\n",
        "    train_ch.batch(1000).prefetch(2),\n",
        "    **bert_vocab_args_chords\n",
        ")"
      ],
      "metadata": {
        "id": "Z8fymx--6Fk7"
      },
      "execution_count": null,
      "outputs": []
    },
    {
      "cell_type": "code",
      "source": [
        "write_vocab_file('ch_vocab.txt', ch_vocab)"
      ],
      "metadata": {
        "id": "irBE8_la6IJH"
      },
      "execution_count": null,
      "outputs": []
    },
    {
      "cell_type": "code",
      "source": [
        "ge_tokenizer = text.BertTokenizer('ge_vocab.txt', **bert_tokenizer_params)\n",
        "ch_tokenizer = text.BertTokenizer('ch_vocab.txt', **bert_tokenizer_params)"
      ],
      "metadata": {
        "id": "wkfbUb9v6NfV"
      },
      "execution_count": null,
      "outputs": []
    },
    {
      "cell_type": "code",
      "source": [
        "START = tf.argmax(tf.constant(reserved_tokens) == \"[START]\")\n",
        "END = tf.argmax(tf.constant(reserved_tokens) == \"[END]\")\n",
        "\n",
        "def add_start_end(ragged):\n",
        "  count = ragged.bounding_shape()[0]\n",
        "  starts = tf.fill([count,1], START)\n",
        "  ends = tf.fill([count,1], END)\n",
        "  return tf.concat([starts, ragged, ends], axis=1)\n"
      ],
      "metadata": {
        "id": "cPmFdzZw6PoT"
      },
      "execution_count": null,
      "outputs": []
    },
    {
      "cell_type": "code",
      "source": [
        "def cleanup_text(reserved_tokens, token_txt):\n",
        "  # Drop the reserved tokens, except for \"[UNK]\".\n",
        "  bad_tokens = [re.escape(tok) for tok in reserved_tokens if tok != \"[UNK]\"]\n",
        "  bad_token_re = \"|\".join(bad_tokens)\n",
        "\n",
        "  bad_cells = tf.strings.regex_full_match(token_txt, bad_token_re)\n",
        "  result = tf.ragged.boolean_mask(token_txt, ~bad_cells)\n",
        "\n",
        "  # Join them into strings.\n",
        "  result = tf.strings.reduce_join(result, separator=' ', axis=-1)\n",
        "\n",
        "  return result\n"
      ],
      "metadata": {
        "id": "CK7ueBLE6S64"
      },
      "execution_count": null,
      "outputs": []
    },
    {
      "cell_type": "code",
      "source": [
        "class CustomTokenizer(tf.Module):\n",
        "  def __init__(self, reserved_tokens, vocab_path):\n",
        "    self.tokenizer = text.BertTokenizer(vocab_path, lower_case=True)\n",
        "    self._reserved_tokens = reserved_tokens\n",
        "    self._vocab_path = tf.saved_model.Asset(vocab_path)\n",
        "\n",
        "    vocab = pathlib.Path(vocab_path).read_text().splitlines()\n",
        "    self.vocab = tf.Variable(vocab)\n",
        "\n",
        "    ## Create the signatures for export:   \n",
        "\n",
        "    # Include a tokenize signature for a batch of strings. \n",
        "    self.tokenize.get_concrete_function(\n",
        "        tf.TensorSpec(shape=[None], dtype=tf.string))\n",
        "\n",
        "    # Include `detokenize` and `lookup` signatures for:\n",
        "    #   * `Tensors` with shapes [tokens] and [batch, tokens]\n",
        "    #   * `RaggedTensors` with shape [batch, tokens]\n",
        "    self.detokenize.get_concrete_function(\n",
        "        tf.TensorSpec(shape=[None, None], dtype=tf.int64))\n",
        "    self.detokenize.get_concrete_function(\n",
        "          tf.RaggedTensorSpec(shape=[None, None], dtype=tf.int64))\n",
        "\n",
        "    self.lookup.get_concrete_function(\n",
        "        tf.TensorSpec(shape=[None, None], dtype=tf.int64))\n",
        "    self.lookup.get_concrete_function(\n",
        "          tf.RaggedTensorSpec(shape=[None, None], dtype=tf.int64))\n",
        "\n",
        "    # These `get_*` methods take no arguments\n",
        "    self.get_vocab_size.get_concrete_function()\n",
        "    self.get_vocab_path.get_concrete_function()\n",
        "    self.get_reserved_tokens.get_concrete_function()\n",
        "\n",
        "  @tf.function\n",
        "  def tokenize(self, strings):\n",
        "    enc = self.tokenizer.tokenize(strings)\n",
        "    # Merge the `word` and `word-piece` axes.\n",
        "    enc = enc.merge_dims(-2,-1)\n",
        "    enc = add_start_end(enc)\n",
        "    return enc\n",
        "\n",
        "  @tf.function\n",
        "  def detokenize(self, tokenized):\n",
        "    words = self.tokenizer.detokenize(tokenized)\n",
        "    return cleanup_text(self._reserved_tokens, words)\n",
        "\n",
        "  @tf.function\n",
        "  def lookup(self, token_ids):\n",
        "    return tf.gather(self.vocab, token_ids)\n",
        "\n",
        "  @tf.function\n",
        "  def get_vocab_size(self):\n",
        "    return tf.shape(self.vocab)[0]\n",
        "\n",
        "  @tf.function\n",
        "  def get_vocab_path(self):\n",
        "    return self._vocab_path\n",
        "\n",
        "  @tf.function\n",
        "  def get_reserved_tokens(self):\n",
        "    return tf.constant(self._reserved_tokens)\n"
      ],
      "metadata": {
        "id": "aoYrrUCl6U6o"
      },
      "execution_count": null,
      "outputs": []
    },
    {
      "cell_type": "code",
      "source": [
        "tokenizers = tf.Module()\n",
        "tokenizers.ge = CustomTokenizer(reserved_tokens, 'ge_vocab.txt')\n",
        "tokenizers.ch = CustomTokenizer(reserved_tokens, 'ch_vocab.txt')"
      ],
      "metadata": {
        "id": "YjlBZuVE6Xh0"
      },
      "execution_count": null,
      "outputs": []
    },
    {
      "cell_type": "code",
      "source": [
        "model_name = '/content/drive/MyDrive/Colab Notebooks/Transformer_project /ted_hrlr_translate_ge_ch_converter'\n",
        "tf.saved_model.save(tokenizers, model_name)\n",
        "print(tokenizers.ch.get_vocab_size())\n",
        "print(tokenizers.ge.get_vocab_size())"
      ],
      "metadata": {
        "colab": {
          "base_uri": "https://localhost:8080/"
        },
        "id": "ZJroT11J6Zz8",
        "outputId": "0fea15f0-06d9-4fcc-9c3c-0f8e0a8bb254"
      },
      "execution_count": null,
      "outputs": [
        {
          "output_type": "stream",
          "name": "stdout",
          "text": [
            "tf.Tensor(174, shape=(), dtype=int32)\n",
            "tf.Tensor(976, shape=(), dtype=int32)\n"
          ]
        }
      ]
    }
  ]
}