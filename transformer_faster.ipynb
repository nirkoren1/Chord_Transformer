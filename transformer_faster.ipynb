{
  "cells": [
    {
      "cell_type": "markdown",
      "metadata": {
        "id": "view-in-github",
        "colab_type": "text"
      },
      "source": [
        "<a href=\"https://colab.research.google.com/github/nirkoren1/Chord_Transformer/blob/master/transformer_faster.ipynb\" target=\"_parent\"><img src=\"https://colab.research.google.com/assets/colab-badge.svg\" alt=\"Open In Colab\"/></a>"
      ]
    },
    {
      "cell_type": "code",
      "execution_count": 1,
      "metadata": {
        "colab": {
          "base_uri": "https://localhost:8080/"
        },
        "id": "g9M7aUGGjyTq",
        "outputId": "2fe3f8f0-79ff-4d1b-dd7e-e58f190db85d"
      },
      "outputs": [
        {
          "output_type": "stream",
          "name": "stdout",
          "text": [
            "Looking in indexes: https://pypi.org/simple, https://us-python.pkg.dev/colab-wheels/public/simple/\n",
            "Requirement already satisfied: pickle5 in /usr/local/lib/python3.7/dist-packages (0.0.12)\n"
          ]
        }
      ],
      "source": [
        "!pip install pickle5\n",
        "!pip uninstall -y -q tensorflow keras tensorflow-estimator tensorflow-text\n",
        "!pip install -q tensorflow_datasets\n",
        "!pip install -q -U tensorflow-text tensorflow"
      ]
    },
    {
      "cell_type": "code",
      "execution_count": 2,
      "metadata": {
        "id": "db5HOAFNkKnN"
      },
      "outputs": [],
      "source": [
        "import tensorflow as tf\n",
        "import pickle5\n",
        "import pickle\n",
        "import pandas as pd\n",
        "import numpy as np\n",
        "from tensorflow import keras\n",
        "from tensorflow.keras.layers import Dense, LayerNormalization, Dropout, Embedding, Flatten\n",
        "from tensorflow.keras.optimizers import Adam\n",
        "import matplotlib.pyplot as plt\n",
        "from matplotlib import style\n",
        "import tensorflow_datasets as tfds\n",
        "import tensorflow_text\n",
        "from tensorflow_text.tools.wordpiece_vocab import bert_vocab_from_dataset as bert_vocab\n",
        "import time"
      ]
    },
    {
      "cell_type": "code",
      "execution_count": 3,
      "metadata": {
        "id": "JwW83hzakMUw",
        "colab": {
          "base_uri": "https://localhost:8080/"
        },
        "outputId": "c5576fea-c2c8-4822-c0c6-6439e8c221ad"
      },
      "outputs": [
        {
          "output_type": "execute_result",
          "data": {
            "text/plain": [
              "<PrefetchDataset element_spec=(TensorSpec(shape=(), dtype=tf.string, name=None), TensorSpec(shape=(), dtype=tf.string, name=None))>"
            ]
          },
          "metadata": {},
          "execution_count": 3
        }
      ],
      "source": [
        "examples, metadata = tfds.load('ted_hrlr_translate/pt_to_en',\n",
        "                               with_info=True,\n",
        "                               as_supervised=True)\n",
        "\n",
        "train_examples, val_examples = examples['train'], examples['validation']\n",
        "train_examples"
      ]
    },
    {
      "cell_type": "code",
      "execution_count": 4,
      "metadata": {
        "id": "h-wfd8QhkOHM",
        "colab": {
          "base_uri": "https://localhost:8080/",
          "height": 35
        },
        "outputId": "c3601607-c561-48a6-a4cf-2c69a544d3c3"
      },
      "outputs": [
        {
          "output_type": "execute_result",
          "data": {
            "text/plain": [
              "'./ted_hrlr_translate_pt_en_converter.zip'"
            ],
            "application/vnd.google.colaboratory.intrinsic+json": {
              "type": "string"
            }
          },
          "metadata": {},
          "execution_count": 4
        }
      ],
      "source": [
        "model_name = 'ted_hrlr_translate_pt_en_converter'\n",
        "tf.keras.utils.get_file(\n",
        "    f'{model_name}.zip',\n",
        "    f'https://storage.googleapis.com/download.tensorflow.org/models/{model_name}.zip',\n",
        "    cache_dir='.', cache_subdir='', extract=True\n",
        ")"
      ]
    },
    {
      "cell_type": "code",
      "execution_count": 5,
      "metadata": {
        "id": "M2m7wUoPkXmE"
      },
      "outputs": [],
      "source": [
        "tokenizers = tf.saved_model.load(model_name)"
      ]
    },
    {
      "cell_type": "code",
      "execution_count": 6,
      "metadata": {
        "id": "0g0s7ikfkZh-"
      },
      "outputs": [],
      "source": [
        "max_sample_size = 200\n",
        "\n",
        "\n",
        "def prepare_batch(pt, en):\n",
        "    pt = tokenizers.pt.tokenize(pt)      # Output is ragged.\n",
        "    pt = pt[:, :max_sample_size]    # Trim to MAX_TOKENS.\n",
        "    pt = pt.to_tensor()  # Convert to 0-padded dense Tensor\n",
        "\n",
        "    en = tokenizers.en.tokenize(en)\n",
        "    en = en[:, :(max_sample_size + 1)]\n",
        "    en_inputs = en[:, :-1].to_tensor()  # Drop the [END] tokens\n",
        "    en_labels = en[:, 1:].to_tensor()   # Drop the [START] tokens\n",
        "\n",
        "    return (pt, en_inputs), en_labels\n",
        "BUFFER_SIZE = 20000\n",
        "BATCH_SIZE = 64\n",
        "\n",
        "\n",
        "def make_batches(ds):\n",
        "  return (\n",
        "      ds\n",
        "      .shuffle(BUFFER_SIZE)\n",
        "      .batch(BATCH_SIZE)\n",
        "      .map(prepare_batch, tf.data.AUTOTUNE)\n",
        "      .prefetch(buffer_size=tf.data.AUTOTUNE))\n",
        "\n",
        "\n",
        "# Create training and validation set batches.\n",
        "train_batches = make_batches(train_examples)\n",
        "val_batches = make_batches(val_examples)"
      ]
    },
    {
      "cell_type": "code",
      "execution_count": 7,
      "metadata": {
        "id": "oh7YYU2lk3-E",
        "colab": {
          "base_uri": "https://localhost:8080/",
          "height": 284
        },
        "outputId": "2903f255-1dbf-4f2b-f3e0-c3945a4e9bbf"
      },
      "outputs": [
        {
          "output_type": "display_data",
          "data": {
            "text/plain": [
              "<Figure size 432x288 with 2 Axes>"
            ],
            "image/png": "[encoded data removed]"
          },
          "metadata": {
            "needs_background": "light"
          }
        }
      ],
      "source": [
        "d_model = 128\n",
        "def position_encoding(pos, i, embedding_size):\n",
        "    if i % 2 == 0:\n",
        "        return np.sin(pos / (10000 ** (2 * (i // 2) / embedding_size)))\n",
        "    return np.cos(pos / (10000 ** (2 * (i // 2) / embedding_size)))\n",
        "positional_matrix = tf.convert_to_tensor([[position_encoding(i, j, d_model) for j in range(d_model)] for i in range(max_sample_size)], dtype=tf.float32)\n",
        "plt.pcolormesh(positional_matrix, cmap='RdBu')\n",
        "plt.ylabel('position')\n",
        "plt.xlabel('d_model')\n",
        "plt.colorbar()\n",
        "plt.show()"
      ]
    },
    {
      "cell_type": "code",
      "execution_count": 8,
      "metadata": {
        "id": "V_O6CARtk8pF"
      },
      "outputs": [],
      "source": [
        "def add_positional_embedding(batch):\n",
        "  position_embedding_sliced = positional_matrix[:tf.shape(batch)[-2], :tf.shape(batch)[-1]]\n",
        "  out = batch + position_embedding_sliced[tf.newaxis, :, :]\n",
        "  return out"
      ]
    },
    {
      "cell_type": "code",
      "execution_count": 9,
      "metadata": {
        "id": "TERYdj4MlJmE",
        "colab": {
          "base_uri": "https://localhost:8080/"
        },
        "outputId": "65ff1f3d-5f55-4c83-d184-ae984f952062"
      },
      "outputs": [
        {
          "output_type": "stream",
          "name": "stdout",
          "text": [
            "tf.Tensor(\n",
            "[[  2  76   9 ...   0   0   0]\n",
            " [  2  90 107 ...   0   0   0]\n",
            " [  2  36  36 ...   0   0   0]\n",
            " ...\n",
            " [  2  36  36 ...   0   0   0]\n",
            " [  2  45  91 ...   0   0   0]\n",
            " [  2 186 114 ...   0   0   0]], shape=(64, 85), dtype=int64)\n",
            "tf.Tensor(\n",
            "[[[ 2.7504021e-01  5.8450931e-01  6.4566255e-01 ... -1.0000000e+09\n",
            "   -1.0000000e+09 -1.0000000e+09]\n",
            "  [ 7.0608228e-01  5.5255300e-01  6.1101264e-01 ... -1.0000000e+09\n",
            "   -1.0000000e+09 -1.0000000e+09]\n",
            "  [ 5.5679119e-01  4.4670680e-01  2.0288639e-01 ... -1.0000000e+09\n",
            "   -1.0000000e+09 -1.0000000e+09]\n",
            "  ...\n",
            "  [ 2.7519563e-01  2.2282377e-01  2.4588668e-01 ... -1.0000000e+09\n",
            "   -1.0000000e+09 -1.0000000e+09]\n",
            "  [ 7.4448004e-02  7.8523248e-01  8.5949832e-01 ... -1.0000000e+09\n",
            "   -1.0000000e+09 -1.0000000e+09]\n",
            "  [ 4.4179499e-01  3.6008146e-01  4.3780118e-01 ... -1.0000000e+09\n",
            "   -1.0000000e+09 -1.0000000e+09]]\n",
            "\n",
            " [[ 4.5590743e-01  5.4264426e-01  3.1614414e-01 ... -1.0000000e+09\n",
            "   -1.0000000e+09 -1.0000000e+09]\n",
            "  [ 5.8931220e-01  1.5548927e-01  1.5378489e-01 ... -1.0000000e+09\n",
            "   -1.0000000e+09 -1.0000000e+09]\n",
            "  [ 7.0243543e-01  3.6427394e-01  1.0283440e-01 ... -1.0000000e+09\n",
            "   -1.0000000e+09 -1.0000000e+09]\n",
            "  ...\n",
            "  [ 6.3094109e-01  1.4825135e-01  4.7065479e-01 ... -1.0000000e+09\n",
            "   -1.0000000e+09 -1.0000000e+09]\n",
            "  [ 1.9673601e-01  3.1388846e-01  7.2472405e-01 ... -1.0000000e+09\n",
            "   -1.0000000e+09 -1.0000000e+09]\n",
            "  [ 7.5874829e-01  1.3304112e-02  6.2206876e-01 ... -1.0000000e+09\n",
            "   -1.0000000e+09 -1.0000000e+09]]\n",
            "\n",
            " [[ 5.6903511e-01  7.0994055e-01  2.1233147e-01 ... -1.0000000e+09\n",
            "   -1.0000000e+09 -1.0000000e+09]\n",
            "  [ 9.1664863e-01  9.5493391e-02  9.5361054e-01 ... -1.0000000e+09\n",
            "   -1.0000000e+09 -1.0000000e+09]\n",
            "  [ 9.7824925e-01  4.3881765e-01  8.6432129e-01 ... -1.0000000e+09\n",
            "   -1.0000000e+09 -1.0000000e+09]\n",
            "  ...\n",
            "  [ 4.2065203e-01  5.6539220e-01  9.8550057e-01 ... -1.0000000e+09\n",
            "   -1.0000000e+09 -1.0000000e+09]\n",
            "  [ 5.2560979e-01  5.7133633e-01  2.6631120e-01 ... -1.0000000e+09\n",
            "   -1.0000000e+09 -1.0000000e+09]\n",
            "  [ 3.6838856e-01  7.2097379e-01  6.4386189e-01 ... -1.0000000e+09\n",
            "   -1.0000000e+09 -1.0000000e+09]]\n",
            "\n",
            " ...\n",
            "\n",
            " [[ 5.7087106e-01  2.3315792e-01  3.0094579e-01 ... -1.0000000e+09\n",
            "   -1.0000000e+09 -1.0000000e+09]\n",
            "  [ 8.1111276e-01  3.7131354e-01  7.8936857e-01 ... -1.0000000e+09\n",
            "   -1.0000000e+09 -1.0000000e+09]\n",
            "  [ 4.3629658e-01  7.1581554e-01  8.0050588e-02 ... -1.0000000e+09\n",
            "   -1.0000000e+09 -1.0000000e+09]\n",
            "  ...\n",
            "  [ 3.1361401e-02  6.2343174e-01  5.8655292e-01 ... -1.0000000e+09\n",
            "   -1.0000000e+09 -1.0000000e+09]\n",
            "  [ 6.9535661e-01  8.1508702e-01  4.0749483e-02 ... -1.0000000e+09\n",
            "   -1.0000000e+09 -1.0000000e+09]\n",
            "  [ 7.3156965e-01  9.6574980e-01  6.6285586e-01 ... -1.0000000e+09\n",
            "   -1.0000000e+09 -1.0000000e+09]]\n",
            "\n",
            " [[ 1.6837394e-02  6.2177032e-02  3.1618351e-01 ... -1.0000000e+09\n",
            "   -1.0000000e+09 -1.0000000e+09]\n",
            "  [ 9.0109976e-03  7.9979885e-01  7.3395914e-01 ... -1.0000000e+09\n",
            "   -1.0000000e+09 -1.0000000e+09]\n",
            "  [ 3.4437129e-01  4.7403583e-01  1.1426025e-01 ... -1.0000000e+09\n",
            "   -1.0000000e+09 -1.0000000e+09]\n",
            "  ...\n",
            "  [ 7.6135910e-01  8.2797444e-01  3.2039815e-01 ... -1.0000000e+09\n",
            "   -1.0000000e+09 -1.0000000e+09]\n",
            "  [ 3.6006877e-01  7.9812497e-01  5.5477720e-01 ... -1.0000000e+09\n",
            "   -1.0000000e+09 -1.0000000e+09]\n",
            "  [ 8.8201869e-01  8.0788690e-01  8.3590072e-01 ... -1.0000000e+09\n",
            "   -1.0000000e+09 -1.0000000e+09]]\n",
            "\n",
            " [[ 3.0482167e-01  1.6014379e-01  6.0755455e-01 ... -1.0000000e+09\n",
            "   -1.0000000e+09 -1.0000000e+09]\n",
            "  [ 5.6302083e-01  6.8944281e-01  3.8878870e-01 ... -1.0000000e+09\n",
            "   -1.0000000e+09 -1.0000000e+09]\n",
            "  [ 7.4696308e-01  4.5766589e-01  4.2559329e-01 ... -1.0000000e+09\n",
            "   -1.0000000e+09 -1.0000000e+09]\n",
            "  ...\n",
            "  [ 8.7360930e-01  1.3117331e-01  2.3505175e-01 ... -1.0000000e+09\n",
            "   -1.0000000e+09 -1.0000000e+09]\n",
            "  [ 9.0014392e-01  2.7074644e-01  1.2516524e-01 ... -1.0000000e+09\n",
            "   -1.0000000e+09 -1.0000000e+09]\n",
            "  [ 3.9062929e-01  4.6967486e-01  2.6946703e-01 ... -1.0000000e+09\n",
            "   -1.0000000e+09 -1.0000000e+09]]], shape=(64, 82, 85), dtype=float32)\n",
            "tf.Tensor(\n",
            "[[[ 5.0030661e-01 -1.0000000e+09 -1.0000000e+09 ... -1.0000000e+09\n",
            "   -1.0000000e+09 -1.0000000e+09]\n",
            "  [ 2.6274520e-01  3.1756302e-03 -1.0000000e+09 ... -1.0000000e+09\n",
            "   -1.0000000e+09 -1.0000000e+09]\n",
            "  [ 2.5865471e-01  9.6533012e-01  9.5495778e-01 ... -1.0000000e+09\n",
            "   -1.0000000e+09 -1.0000000e+09]\n",
            "  ...\n",
            "  [ 8.8653237e-02  5.1142168e-01  4.9990597e-01 ... -1.0000000e+09\n",
            "   -1.0000000e+09 -1.0000000e+09]\n",
            "  [ 6.6681808e-01  4.9242836e-01  3.3714563e-01 ... -1.0000000e+09\n",
            "   -1.0000000e+09 -1.0000000e+09]\n",
            "  [ 2.4451503e-01  7.4761093e-01  8.4986818e-01 ... -1.0000000e+09\n",
            "   -1.0000000e+09 -1.0000000e+09]]\n",
            "\n",
            " [[ 6.7736191e-01 -1.0000000e+09 -1.0000000e+09 ... -1.0000000e+09\n",
            "   -1.0000000e+09 -1.0000000e+09]\n",
            "  [ 4.0918136e-01  5.5948865e-01 -1.0000000e+09 ... -1.0000000e+09\n",
            "   -1.0000000e+09 -1.0000000e+09]\n",
            "  [ 7.8482634e-01  8.8911027e-01  4.0568545e-01 ... -1.0000000e+09\n",
            "   -1.0000000e+09 -1.0000000e+09]\n",
            "  ...\n",
            "  [ 1.7194773e-01  2.5473964e-01  6.2273377e-01 ... -1.0000000e+09\n",
            "   -1.0000000e+09 -1.0000000e+09]\n",
            "  [ 8.1019765e-01  9.1934329e-01  6.8539482e-01 ... -1.0000000e+09\n",
            "   -1.0000000e+09 -1.0000000e+09]\n",
            "  [ 1.4548472e-01  8.3009839e-02  2.0184270e-01 ... -1.0000000e+09\n",
            "   -1.0000000e+09 -1.0000000e+09]]\n",
            "\n",
            " [[ 1.9084165e-01 -1.0000000e+09 -1.0000000e+09 ... -1.0000000e+09\n",
            "   -1.0000000e+09 -1.0000000e+09]\n",
            "  [ 9.2396611e-01  2.0087159e-01 -1.0000000e+09 ... -1.0000000e+09\n",
            "   -1.0000000e+09 -1.0000000e+09]\n",
            "  [ 5.4880284e-02  5.6017812e-02  1.9194834e-01 ... -1.0000000e+09\n",
            "   -1.0000000e+09 -1.0000000e+09]\n",
            "  ...\n",
            "  [ 8.3924729e-01  9.9105960e-01  7.8697032e-01 ... -1.0000000e+09\n",
            "   -1.0000000e+09 -1.0000000e+09]\n",
            "  [ 3.2726499e-01  3.3765829e-01  4.3373935e-02 ... -1.0000000e+09\n",
            "   -1.0000000e+09 -1.0000000e+09]\n",
            "  [ 4.7580790e-02  4.2170382e-01  8.3511847e-01 ... -1.0000000e+09\n",
            "   -1.0000000e+09 -1.0000000e+09]]\n",
            "\n",
            " ...\n",
            "\n",
            " [[ 5.8257675e-01 -1.0000000e+09 -1.0000000e+09 ... -1.0000000e+09\n",
            "   -1.0000000e+09 -1.0000000e+09]\n",
            "  [ 9.1368176e-02  7.6267833e-01 -1.0000000e+09 ... -1.0000000e+09\n",
            "   -1.0000000e+09 -1.0000000e+09]\n",
            "  [ 1.5775095e-01  2.2491278e-02  9.7397321e-01 ... -1.0000000e+09\n",
            "   -1.0000000e+09 -1.0000000e+09]\n",
            "  ...\n",
            "  [ 2.6427132e-01  5.4561907e-01  2.5362355e-01 ... -1.0000000e+09\n",
            "   -1.0000000e+09 -1.0000000e+09]\n",
            "  [ 6.4745057e-01  3.0209836e-01  6.3245481e-01 ... -1.0000000e+09\n",
            "   -1.0000000e+09 -1.0000000e+09]\n",
            "  [ 3.1804594e-01  8.2905984e-01  6.9620901e-01 ... -1.0000000e+09\n",
            "   -1.0000000e+09 -1.0000000e+09]]\n",
            "\n",
            " [[ 7.1189380e-01 -1.0000000e+09 -1.0000000e+09 ... -1.0000000e+09\n",
            "   -1.0000000e+09 -1.0000000e+09]\n",
            "  [ 4.8412895e-01  6.0224032e-01 -1.0000000e+09 ... -1.0000000e+09\n",
            "   -1.0000000e+09 -1.0000000e+09]\n",
            "  [ 7.4716993e-02  4.6105871e-01  6.7092603e-01 ... -1.0000000e+09\n",
            "   -1.0000000e+09 -1.0000000e+09]\n",
            "  ...\n",
            "  [ 2.3230571e-01  4.0137663e-01  8.0368125e-01 ... -1.0000000e+09\n",
            "   -1.0000000e+09 -1.0000000e+09]\n",
            "  [ 5.4198509e-01  7.4986100e-01  3.5123363e-01 ... -1.0000000e+09\n",
            "   -1.0000000e+09 -1.0000000e+09]\n",
            "  [ 7.1760154e-01  4.8839194e-01  5.3055292e-01 ... -1.0000000e+09\n",
            "   -1.0000000e+09 -1.0000000e+09]]\n",
            "\n",
            " [[ 2.3450983e-01 -1.0000000e+09 -1.0000000e+09 ... -1.0000000e+09\n",
            "   -1.0000000e+09 -1.0000000e+09]\n",
            "  [ 7.7373254e-01  6.8991661e-02 -1.0000000e+09 ... -1.0000000e+09\n",
            "   -1.0000000e+09 -1.0000000e+09]\n",
            "  [ 9.2166919e-01  7.8290600e-01  4.7599840e-01 ... -1.0000000e+09\n",
            "   -1.0000000e+09 -1.0000000e+09]\n",
            "  ...\n",
            "  [ 2.1534467e-01  6.1109090e-01  2.8731981e-01 ... -1.0000000e+09\n",
            "   -1.0000000e+09 -1.0000000e+09]\n",
            "  [ 8.9074440e-02  3.7757730e-01  8.1260186e-01 ... -1.0000000e+09\n",
            "   -1.0000000e+09 -1.0000000e+09]\n",
            "  [ 5.7842946e-01  2.9541373e-01  8.2225728e-01 ... -1.0000000e+09\n",
            "   -1.0000000e+09 -1.0000000e+09]]], shape=(64, 85, 85), dtype=float32)\n"
          ]
        }
      ],
      "source": [
        "largest_mask = [[0. if i >= j else 1 for j in range(max_sample_size)] for i in range(max_sample_size)]\n",
        "largest_mask = tf.convert_to_tensor(largest_mask, dtype=tf.float32)\n",
        "def look_ahead_mask(batch):\n",
        "  return largest_mask[tf.newaxis, :tf.shape(batch)[1], :tf.shape(batch)[1]]\n",
        "\n",
        "def padding_mask(keys_tekenized):\n",
        "    mask = tf.cast(tf.math.equal(keys_tekenized, 0), tf.float32)\n",
        "    return mask[:, tf.newaxis, :]\n",
        "\n",
        "def padding_and_look_ahead_mask(batch):\n",
        "  return tf.maximum(padding_mask(batch), look_ahead_mask(batch))\n",
        "\n",
        "for (ru, en), en_val in train_batches:\n",
        "  print(en)\n",
        "  ex = tf.convert_to_tensor([[[np.random.random() for _ in range(en.shape[-1])] for _ in range(ru.shape[-1])] for _ in range(BATCH_SIZE)], dtype=tf.float32)\n",
        "  mask = padding_mask(en)\n",
        "  ex += (-1e9 * mask)\n",
        "  print(ex)\n",
        "  ex2 = tf.convert_to_tensor([[[np.random.random() for _ in range(en.shape[-1])] for _ in range(en.shape[-1])] for _ in range(BATCH_SIZE)], dtype=tf.float32)\n",
        "  ex2 += (-1e9 * padding_and_look_ahead_mask(en))\n",
        "  print(ex2)\n",
        "  break"
      ]
    },
    {
      "cell_type": "code",
      "execution_count": 10,
      "metadata": {
        "id": "n2cEwTDzlPHI"
      },
      "outputs": [],
      "source": [
        "def attention_head(q, k, v, mask):\n",
        "  dk = tf.shape(q)[-1]\n",
        "  q = tf.scalar_mul(1 / tf.math.sqrt(tf.cast(dk, tf.float32)), q)\n",
        "  QK = tf.linalg.matmul(q, k, transpose_b=True)\n",
        "  QK += (mask * -1e9)\n",
        "  QK = tf.nn.softmax(QK, axis=-1)\n",
        "  QKV = tf.linalg.matmul(QK, v)\n",
        "  return QKV"
      ]
    },
    {
      "cell_type": "code",
      "execution_count": 11,
      "metadata": {
        "id": "ypAcryGRlRt9"
      },
      "outputs": [],
      "source": [
        "class MultiHeadAttention(keras.layers.Layer):\n",
        "  def __init__(self, d_model, h: int, dropout_rate=0.1):\n",
        "    super(MultiHeadAttention, self).__init__()\n",
        "    self.h = h\n",
        "    self.d_model = d_model\n",
        "    self.dk = d_model / h\n",
        "    self.normalize = LayerNormalization(axis=-1, center=True, scale=True, epsilon=0.0001)\n",
        "    self.fc = Dense(d_model)\n",
        "    self.dropout = Dropout(dropout_rate)\n",
        "    self.value_weights = Dense(d_model)\n",
        "    self.query_weights = Dense(d_model)\n",
        "    self.key_weights = Dense(d_model)\n",
        "    self.add = keras.layers.Add()\n",
        "    # self.mha = keras.layers.MultiHeadAttention(num_heads=8, key_dim=d_model, dropout=dropout_rate)\n",
        "\n",
        "  def call(self, q, k, v, mask, training=False, use_causal_mask=False):\n",
        "    query = self.query_weights(q)\n",
        "    key = self.key_weights(k)\n",
        "    value = self.value_weights(v)\n",
        "    query = tf.split(query, self.h, axis=-1)\n",
        "    key = tf.split(key, self.h, axis=-1)\n",
        "    value = tf.split(value, self.h, axis=-1)\n",
        "    attentions = [attention_head(query[i], key[i], value[i], mask) for i in range(self.h)]\n",
        "    result = tf.concat(attentions, -1)\n",
        "    result = self.fc(result)\n",
        "    # result = self.mha(query=q, value=v, key=k, use_causal_mask=use_causal_mask)\n",
        "    if training:\n",
        "      result = self.dropout(result)\n",
        "    result = self.add([result, q])\n",
        "    result = self.normalize(result)\n",
        "    return result"
      ]
    },
    {
      "cell_type": "code",
      "execution_count": 12,
      "metadata": {
        "id": "qq-rLPS8oDii"
      },
      "outputs": [],
      "source": [
        "class FeedForwardBlock(keras.layers.Layer):\n",
        "  def __init__(self, d_model, hidden_layer_size, dropout_rate=0.1):\n",
        "    super(FeedForwardBlock, self).__init__()\n",
        "    self.fc1 = Dense(hidden_layer_size, activation=\"relu\")\n",
        "    self.fc2 = Dense(d_model)\n",
        "    self.normalize = LayerNormalization(axis=-1, center=True, scale=True, epsilon=0.0001)\n",
        "    self.dropout = Dropout(dropout_rate)\n",
        "    self.add = keras.layers.Add()\n",
        "\n",
        "  def call(self, input_tensor, training=False):\n",
        "    result = self.fc1(input_tensor)\n",
        "    result = self.fc2(result)\n",
        "    if training:\n",
        "      result = self.dropout(result)\n",
        "    result = self.add([result, input_tensor])\n",
        "    result = self.normalize(result)\n",
        "    return result"
      ]
    },
    {
      "cell_type": "code",
      "execution_count": 13,
      "metadata": {
        "id": "xKpR1YT8oOha"
      },
      "outputs": [],
      "source": [
        "class EncoderLayer(keras.layers.Layer):\n",
        "  def __init__(self, d_model, h, ff_size):\n",
        "    super(EncoderLayer, self).__init__()\n",
        "    self.mha = MultiHeadAttention(d_model, h)\n",
        "    self.ff = FeedForwardBlock(d_model, ff_size)\n",
        "\n",
        "  def call(self, input_tensor, mask, training=False):\n",
        "    result = self.mha(input_tensor, input_tensor, input_tensor, mask, training=training)\n",
        "    result = self.ff(result, training=training)\n",
        "    return result"
      ]
    },
    {
      "cell_type": "code",
      "execution_count": 14,
      "metadata": {
        "id": "dGEFAYEdoH9a"
      },
      "outputs": [],
      "source": [
        "class Encoder(keras.layers.Layer):\n",
        "  def __init__(self, d_model, h, encoder_dict_size, ff_size, N=4):\n",
        "    super().__init__()\n",
        "    self.N = N\n",
        "    self.d_model = d_model\n",
        "    self.h = h\n",
        "    self.embedding = Embedding(encoder_dict_size, d_model, mask_zero=True)\n",
        "    self.encoder_layers = [EncoderLayer(d_model, h, ff_size) for _ in range(N)]\n",
        "\n",
        "  def call(self, encoder_input, training=False):\n",
        "    mask = padding_mask(encoder_input)\n",
        "    result = self.embedding(encoder_input)\n",
        "    result *= tf.math.sqrt(tf.cast(self.d_model, tf.float32))\n",
        "    result = add_positional_embedding(result)\n",
        "    for i in range(self.N):\n",
        "      result = self.encoder_layers[i](result, mask, training=training)\n",
        "    return result"
      ]
    },
    {
      "cell_type": "code",
      "execution_count": 15,
      "metadata": {
        "id": "Ll0rdd_3x7ep"
      },
      "outputs": [],
      "source": [
        "class DecoderLayer(keras.layers.Layer):\n",
        "  def __init__(self, d_model, h, ff_size):\n",
        "    super(DecoderLayer, self).__init__()\n",
        "    self.mha_self = MultiHeadAttention(d_model, h)\n",
        "    self.mha_cross = MultiHeadAttention(d_model, h)\n",
        "    self.ff = FeedForwardBlock(d_model, ff_size)\n",
        "\n",
        "  def call(self, input_tensor, encoder_output, encoder_mask, decoder_mask, training=False):\n",
        "    result = self.mha_self(input_tensor, input_tensor, input_tensor, decoder_mask, training=training, use_causal_mask=True)\n",
        "    result = self.mha_cross(result, encoder_output, encoder_output, encoder_mask, training=training)\n",
        "    result = self.ff(result, training=training)\n",
        "    return result"
      ]
    },
    {
      "cell_type": "code",
      "execution_count": 16,
      "metadata": {
        "id": "eMoPPk-0z9Ev"
      },
      "outputs": [],
      "source": [
        "class Decoder(keras.layers.Layer):\n",
        "  def __init__(self, d_model, h, decoder_dict_size, ff_size, N=4):\n",
        "    super().__init__()\n",
        "    self.N = N\n",
        "    self.d_model = d_model\n",
        "    self.h = h\n",
        "    self.embedding = Embedding(decoder_dict_size, d_model, mask_zero=True)\n",
        "    self.decoder_layers = [DecoderLayer(d_model, h, ff_size) for _ in range(N)]\n",
        "\n",
        "  def call(self, decoder_input, encoder_out, encoder_mask, training=False):\n",
        "    decoder_mask = padding_and_look_ahead_mask(decoder_input)\n",
        "    result = self.embedding(decoder_input)\n",
        "    result *= tf.math.sqrt(tf.cast(self.d_model, tf.float32))\n",
        "    result = add_positional_embedding(result)\n",
        "    for i in range(self.N):\n",
        "      result = self.decoder_layers[i](result, encoder_out, encoder_mask, decoder_mask, training=training)\n",
        "    return result"
      ]
    },
    {
      "cell_type": "code",
      "execution_count": 17,
      "metadata": {
        "id": "50XydlFJ1HFg",
        "colab": {
          "base_uri": "https://localhost:8080/"
        },
        "outputId": "c7439352-1a97-43af-9902-ea55ac09d05b"
      },
      "outputs": [
        {
          "output_type": "stream",
          "name": "stdout",
          "text": [
            "tf.Tensor(\n",
            "[[[ 0.00629206  0.0182919  -0.06312316 ...  0.0418521  -0.12431264\n",
            "   -0.03894997]\n",
            "  [ 0.01531486  0.02566513 -0.06191925 ...  0.05571253 -0.1435358\n",
            "   -0.04751357]\n",
            "  [ 0.01645291  0.02148785 -0.05311491 ...  0.04168443 -0.14048715\n",
            "   -0.049941  ]\n",
            "  ...\n",
            "  [ 0.04382944  0.03328102 -0.00945277 ...  0.04779978 -0.11093448\n",
            "   -0.03360341]\n",
            "  [ 0.04275055  0.03602561 -0.01193742 ...  0.04871391 -0.11505368\n",
            "   -0.03711075]\n",
            "  [ 0.04586671  0.03950714 -0.01163173 ...  0.04961046 -0.11864067\n",
            "   -0.03572061]]\n",
            "\n",
            " [[ 0.00057154 -0.01085091 -0.04685217 ...  0.04623766 -0.09809157\n",
            "   -0.07260462]\n",
            "  [-0.00129868 -0.02114897 -0.04263084 ...  0.05702894 -0.10606958\n",
            "   -0.06641087]\n",
            "  [ 0.02344032 -0.00627073 -0.00448153 ...  0.05495441 -0.12149549\n",
            "   -0.04846613]\n",
            "  ...\n",
            "  [ 0.03079058 -0.01091908  0.00312804 ...  0.04011835 -0.07342399\n",
            "   -0.05711105]\n",
            "  [ 0.03088692 -0.00796513 -0.00075437 ...  0.03787619 -0.07743523\n",
            "   -0.05992926]\n",
            "  [ 0.03527551 -0.00461604 -0.00221022 ...  0.03949424 -0.08119565\n",
            "   -0.05771797]]\n",
            "\n",
            " [[-0.02646704  0.08877477 -0.00172002 ...  0.09608656 -0.08571387\n",
            "   -0.08515482]\n",
            "  [-0.02209756  0.09423856 -0.0036736  ...  0.10252722 -0.09981374\n",
            "   -0.09114783]\n",
            "  [-0.01019615  0.08727105 -0.00950774 ...  0.10022629 -0.11024401\n",
            "   -0.0734359 ]\n",
            "  ...\n",
            "  [ 0.00894648  0.09907155  0.03818519 ...  0.09690891 -0.06476921\n",
            "   -0.06693793]\n",
            "  [ 0.00808299  0.10138818  0.03566717 ...  0.0956806  -0.06904458\n",
            "   -0.06920534]\n",
            "  [ 0.01217173  0.10395343  0.03619673 ...  0.09566507 -0.07264494\n",
            "   -0.06668861]]\n",
            "\n",
            " ...\n",
            "\n",
            " [[-0.03488185  0.19150682 -0.04022947 ...  0.03542093 -0.08685656\n",
            "    0.06354378]\n",
            "  [-0.01757459  0.1971702  -0.03804836 ...  0.08503617 -0.09276155\n",
            "    0.08095908]\n",
            "  [-0.00686079  0.20135239 -0.02451065 ...  0.07226835 -0.11048538\n",
            "    0.07290794]\n",
            "  ...\n",
            "  [-0.02813124  0.22589186  0.01633927 ...  0.05228989 -0.07454172\n",
            "    0.07635548]\n",
            "  [-0.02863152  0.22714049  0.01328847 ...  0.04984857 -0.07844146\n",
            "    0.07482161]\n",
            "  [-0.02526013  0.22807361  0.01129138 ...  0.04910972 -0.08035522\n",
            "    0.07602667]]\n",
            "\n",
            " [[-0.02883312  0.15156892 -0.00967808 ...  0.05207038 -0.05085651\n",
            "    0.0315019 ]\n",
            "  [-0.01957337  0.14560908 -0.01481828 ...  0.05441904 -0.0537605\n",
            "    0.02911152]\n",
            "  [-0.00044598  0.15640682 -0.00653023 ...  0.0569277  -0.06098528\n",
            "    0.04362907]\n",
            "  ...\n",
            "  [-0.01294388  0.16050932  0.05351898 ...  0.0446455  -0.01752726\n",
            "    0.03418295]\n",
            "  [-0.01326324  0.16183849  0.05160825 ...  0.04200641 -0.0227489\n",
            "    0.03220516]\n",
            "  [-0.00749194  0.16438782  0.05108057 ...  0.04073611 -0.02556892\n",
            "    0.03274647]]\n",
            "\n",
            " [[-0.01038645  0.15897503  0.01670408 ...  0.00127131 -0.09892306\n",
            "    0.04752814]\n",
            "  [-0.00568176  0.1392926   0.01230896 ...  0.00177718 -0.10784637\n",
            "    0.06125741]\n",
            "  [-0.00888829  0.13210487  0.0098214  ... -0.00461485 -0.1135475\n",
            "    0.05164941]\n",
            "  ...\n",
            "  [-0.01333476  0.16567121  0.0721318  ... -0.01003298 -0.07129558\n",
            "    0.07786389]\n",
            "  [-0.01479729  0.1668741   0.06999698 ... -0.01224982 -0.07594173\n",
            "    0.07525837]\n",
            "  [-0.01021302  0.16924669  0.06843123 ... -0.01451274 -0.07825672\n",
            "    0.0761217 ]]], shape=(64, 77, 7010), dtype=float32)\n",
            "tf.Tensor(\n",
            "[[[ 3.61000113e-02  1.22774288e-01  4.83920649e-02 ... -9.80625208e-03\n",
            "   -1.05115771e-01  8.21279958e-02]\n",
            "  [ 4.04157192e-02  1.03331625e-01  4.19866554e-02 ... -7.89563265e-03\n",
            "   -1.08706154e-01  6.36721551e-02]\n",
            "  [ 6.48642331e-02  1.50008872e-01  4.89417762e-02 ...  8.23558960e-03\n",
            "   -1.21854842e-01  8.75142738e-02]\n",
            "  ...\n",
            "  [ 5.95912300e-02  1.65231690e-01  1.12406977e-01 ...  3.83062102e-03\n",
            "   -8.68490040e-02  1.11504793e-01]\n",
            "  [ 5.31979315e-02  1.61168665e-01  1.17236279e-01 ...  5.22690173e-03\n",
            "   -8.53452384e-02  1.11956418e-01]\n",
            "  [ 4.43061031e-02  1.56431705e-01  1.18401580e-01 ...  4.98104049e-03\n",
            "   -8.56179968e-02  1.08196668e-01]]\n",
            "\n",
            " [[ 3.69333066e-02  1.15408160e-01  9.80926305e-02 ... -9.83400494e-02\n",
            "   -1.02000557e-01  9.24686641e-02]\n",
            "  [ 3.13943140e-02  1.33741096e-01  7.63737708e-02 ... -7.42956847e-02\n",
            "   -1.15413867e-01  9.78068933e-02]\n",
            "  [ 4.09509242e-02  1.26001894e-01  9.61846560e-02 ... -6.80546686e-02\n",
            "   -1.23797365e-01  1.09667204e-01]\n",
            "  ...\n",
            "  [ 4.22370136e-02  1.55419946e-01  1.56723052e-01 ... -1.01345666e-01\n",
            "   -7.14275986e-02  9.62108746e-02]\n",
            "  [ 3.73490006e-02  1.52208254e-01  1.63308024e-01 ... -9.98020992e-02\n",
            "   -7.06087649e-02  9.60556567e-02]\n",
            "  [ 2.84884907e-02  1.47790700e-01  1.64481282e-01 ... -1.01158515e-01\n",
            "   -7.05417916e-02  9.26583260e-02]]\n",
            "\n",
            " [[-1.43892299e-02  3.07453461e-02  1.21885464e-02 ...  7.64705390e-02\n",
            "   -1.11594759e-01 -9.10550803e-02]\n",
            "  [ 3.24793928e-03  1.43976919e-02  1.11498227e-02 ...  7.97847360e-02\n",
            "   -1.26015186e-01 -6.86428025e-02]\n",
            "  [-1.66016025e-03  2.98152361e-02  3.91158415e-03 ...  7.96762854e-02\n",
            "   -1.34244367e-01 -6.66597858e-02]\n",
            "  ...\n",
            "  [ 4.47716825e-02  4.94237319e-02  6.82761222e-02 ...  8.05891678e-02\n",
            "   -1.01109855e-01 -6.56099319e-02]\n",
            "  [ 3.90748195e-02  4.41618152e-02  6.97850809e-02 ...  8.45456272e-02\n",
            "   -9.83601362e-02 -6.64660186e-02]\n",
            "  [ 3.08238454e-02  4.03299145e-02  6.80802390e-02 ...  8.55169296e-02\n",
            "   -9.76117328e-02 -7.10547194e-02]]\n",
            "\n",
            " ...\n",
            "\n",
            " [[-5.54125570e-02  2.44230106e-01  5.25257476e-02 ... -1.62285492e-02\n",
            "   -9.74578261e-02  1.01890244e-01]\n",
            "  [-4.79308106e-02  2.60346830e-01  6.38232455e-02 ... -4.19776700e-03\n",
            "   -1.15378499e-01  9.64281037e-02]\n",
            "  [-3.31361368e-02  2.63466954e-01  4.77994196e-02 ...  7.33581837e-03\n",
            "   -1.03289634e-01  1.08220719e-01]\n",
            "  ...\n",
            "  [-5.49459606e-02  2.93079883e-01  1.08065598e-01 ...  1.52034182e-02\n",
            "   -6.72886595e-02  1.06140576e-01]\n",
            "  [-5.99619262e-02  2.87182540e-01  1.12103187e-01 ...  1.59463044e-02\n",
            "   -6.34049177e-02  1.09118395e-01]\n",
            "  [-6.79854304e-02  2.83490211e-01  1.11649506e-01 ...  1.95511058e-02\n",
            "   -6.28783777e-02  1.08189888e-01]]\n",
            "\n",
            " [[ 6.59399945e-03  3.10231373e-02 -9.13522393e-03 ...  2.83877458e-02\n",
            "   -1.19895786e-01 -6.81006834e-02]\n",
            "  [ 9.48736165e-03  3.39105837e-02 -2.36328151e-02 ...  5.52563407e-02\n",
            "   -1.30762115e-01 -5.16404249e-02]\n",
            "  [ 1.41966706e-02  1.96402818e-02 -2.18498595e-02 ...  4.87820320e-02\n",
            "   -1.37853831e-01 -4.29888368e-02]\n",
            "  ...\n",
            "  [ 6.59311712e-02  4.48799506e-02  3.92047502e-02 ...  3.51288728e-02\n",
            "   -1.13354720e-01 -5.24277128e-02]\n",
            "  [ 5.99114560e-02  3.87429260e-02  4.02280800e-02 ...  3.70428488e-02\n",
            "   -1.11290872e-01 -5.34968749e-02]\n",
            "  [ 5.22219241e-02  3.65797393e-02  3.89049612e-02 ...  3.80340293e-02\n",
            "   -1.09953478e-01 -5.71485944e-02]]\n",
            "\n",
            " [[-3.08753792e-02  2.49560233e-02 -4.24675830e-02 ...  1.02941960e-01\n",
            "   -5.54107651e-02 -1.19991250e-01]\n",
            "  [-1.43337268e-02  4.90970239e-02 -4.20905724e-02 ...  1.26032248e-01\n",
            "   -8.49500597e-02 -1.19856335e-01]\n",
            "  [-1.57603137e-02  4.01829444e-02 -5.90557493e-02 ...  1.21251665e-01\n",
            "   -7.91089237e-02 -9.87465307e-02]\n",
            "  ...\n",
            "  [ 2.68275551e-02  2.43931338e-02 -3.82102531e-04 ...  1.05581857e-01\n",
            "   -4.92073894e-02 -9.40105841e-02]\n",
            "  [ 2.09201556e-02  1.85322855e-02  9.06638888e-05 ...  1.07999071e-01\n",
            "   -4.73332405e-02 -9.51609984e-02]\n",
            "  [ 1.50361871e-02  1.70625709e-02 -1.19519827e-03 ...  1.08064204e-01\n",
            "   -4.78800125e-02 -9.75801572e-02]]], shape=(64, 74, 7010), dtype=float32)\n"
          ]
        }
      ],
      "source": [
        "class Transformer(keras.Model):\n",
        "  def __init__(self, d_model, h, encoder_dict_size, decoder_dict_size, ff_size):\n",
        "        super().__init__()\n",
        "        self.d_model = d_model\n",
        "        self.encoder = Encoder(d_model, h, encoder_dict_size, ff_size)\n",
        "        self.decoder = Decoder(d_model, h, decoder_dict_size, ff_size)\n",
        "        self.final_layer = Dense(decoder_dict_size)\n",
        "\n",
        "        self.accs = []\n",
        "        self.losses_lst = []\n",
        "\n",
        "  def call(self, inputs, training=False):\n",
        "      encoder_input_tokenized, decoder_input_tokenized = inputs\n",
        "      encoder_output = self.encoder(encoder_input_tokenized, training)\n",
        "      decoder_output = self.decoder(decoder_input_tokenized, encoder_output, padding_mask(encoder_input_tokenized), training)\n",
        "      result = self.final_layer(decoder_output)\n",
        "      return result\n",
        "\n",
        "  def learn(self, encoder_input, decoder_input, true_output):\n",
        "        with tf.GradientTape(persistent=True) as tape:\n",
        "            guess = self(encoder_input, decoder_input, training=True)\n",
        "            loss = self.loss_function(true_output, guess)\n",
        "        gradients = tape.gradient(loss, self.trainable_variables)\n",
        "        self.optimizer.apply_gradients(zip(gradients, self.trainable_variables))\n",
        "        self.losses_lst.append(loss.numpy())\n",
        "        self.accs.append(self.accuracy_function(true_output, guess).numpy())\n",
        "\n",
        "  def get_acc_moving_avg(self, window_size=50):\n",
        "    if len(self.accs) < window_size:\n",
        "      return sum(self.accs) / len(self.accs)\n",
        "    return sum(self.accs[-window_size:]) / window_size\n",
        "\n",
        "  def get_loss_moving_avg(self, window_size=50):\n",
        "    if len(self.losses_lst) < window_size:\n",
        "      return sum(self.losses_lst) / len(self.losses_lst)\n",
        "    return sum(self.losses_lst[-window_size:]) / window_size\n",
        "\n",
        "transformer_ex = Transformer(d_model, 8, tokenizers.pt.get_vocab_size(), tokenizers.en.get_vocab_size(), 512)\n",
        "i = 0\n",
        "for inputs, en_val in train_batches:\n",
        "  i += 1\n",
        "  print(transformer_ex(inputs))\n",
        "  if i == 2:\n",
        "    break"
      ]
    },
    {
      "cell_type": "code",
      "execution_count": 18,
      "metadata": {
        "id": "BMcG3Np95hAk",
        "colab": {
          "base_uri": "https://localhost:8080/"
        },
        "outputId": "ec95936b-a913-41ba-9ab8-2ee351cdaf2d"
      },
      "outputs": [
        {
          "output_type": "stream",
          "name": "stdout",
          "text": [
            "Model: \"transformer\"\n",
            "_________________________________________________________________\n",
            " Layer (type)                Output Shape              Param #   \n",
            "=================================================================\n",
            " encoder (Encoder)           multiple                  1787008   \n",
            "                                                                 \n",
            " decoder (Decoder)           multiple                  1955584   \n",
            "                                                                 \n",
            " dense_64 (Dense)            multiple                  904290    \n",
            "                                                                 \n",
            "=================================================================\n",
            "Total params: 4,646,882\n",
            "Trainable params: 4,646,882\n",
            "Non-trainable params: 0\n",
            "_________________________________________________________________\n"
          ]
        }
      ],
      "source": [
        "transformer_ex.summary()"
      ]
    },
    {
      "cell_type": "code",
      "execution_count": 19,
      "metadata": {
        "id": "FONw87Rr6vFc"
      },
      "outputs": [],
      "source": [
        "class CustomSchedule(tf.keras.optimizers.schedules.LearningRateSchedule):\n",
        "  def __init__(self, d_model, warmup_steps=4000):\n",
        "    super().__init__()\n",
        "\n",
        "    self.d_model = d_model\n",
        "    self.d_model = tf.cast(self.d_model, tf.float32)\n",
        "\n",
        "    self.warmup_steps = warmup_steps\n",
        "\n",
        "  def __call__(self, step):\n",
        "    step = tf.cast(step, dtype=tf.float32)\n",
        "    arg1 = tf.math.rsqrt(step)\n",
        "    arg2 = step * (self.warmup_steps ** -1.5)\n",
        "\n",
        "    return tf.math.rsqrt(self.d_model) * tf.math.minimum(arg1, arg2)"
      ]
    },
    {
      "cell_type": "code",
      "execution_count": 20,
      "metadata": {
        "id": "xmGdztA59lHl"
      },
      "outputs": [],
      "source": [
        "learning_rate = CustomSchedule(d_model)\n",
        "\n",
        "optimizer = tf.keras.optimizers.Adam(learning_rate, beta_1=0.9, beta_2=0.98,\n",
        "                                     epsilon=1e-9)"
      ]
    },
    {
      "cell_type": "code",
      "execution_count": 21,
      "metadata": {
        "id": "f7Dr_4LE9lxX"
      },
      "outputs": [],
      "source": [
        "def masked_loss(label, pred):\n",
        "  mask = label != 0\n",
        "  loss_object = tf.keras.losses.SparseCategoricalCrossentropy(\n",
        "    from_logits=True, reduction='none')\n",
        "  loss = loss_object(label, pred)\n",
        "\n",
        "  mask = tf.cast(mask, dtype=loss.dtype)\n",
        "  loss *= mask\n",
        "\n",
        "  loss = tf.reduce_sum(loss)/tf.reduce_sum(mask)\n",
        "  return loss\n",
        "\n",
        "def masked_accuracy(label, pred):\n",
        "  pred = tf.argmax(pred, axis=2)\n",
        "  label = tf.cast(label, pred.dtype)\n",
        "  match = label == pred\n",
        "\n",
        "  mask = label != 0\n",
        "\n",
        "  match = match & mask\n",
        "\n",
        "  match = tf.cast(match, dtype=tf.float32)\n",
        "  mask = tf.cast(mask, dtype=tf.float32)\n",
        "  return tf.reduce_sum(match)/tf.reduce_sum(mask)"
      ]
    },
    {
      "cell_type": "code",
      "execution_count": 22,
      "metadata": {
        "id": "VMUV2xGH9opM"
      },
      "outputs": [],
      "source": [
        "transformer_ex.compile(\n",
        "    loss=masked_loss,\n",
        "    optimizer=optimizer,\n",
        "    metrics=[masked_accuracy])"
      ]
    },
    {
      "cell_type": "code",
      "execution_count": 23,
      "metadata": {
        "id": "iH76-Iq29tWO",
        "colab": {
          "base_uri": "https://localhost:8080/"
        },
        "outputId": "37e00882-65b3-4d37-cd36-59f5ca54812f"
      },
      "outputs": [
        {
          "output_type": "stream",
          "name": "stdout",
          "text": [
            "Epoch 1/20\n",
            "810/810 [==============================] - 154s 147ms/step - loss: 6.6496 - masked_accuracy: 0.1292 - val_loss: 5.1449 - val_masked_accuracy: 0.2276\n",
            "Epoch 2/20\n",
            "810/810 [==============================] - 110s 135ms/step - loss: 4.8205 - masked_accuracy: 0.2557 - val_loss: 4.5276 - val_masked_accuracy: 0.2797\n",
            "Epoch 3/20\n",
            "810/810 [==============================] - 110s 136ms/step - loss: 4.2920 - masked_accuracy: 0.3063 - val_loss: 4.0231 - val_masked_accuracy: 0.3407\n",
            "Epoch 4/20\n",
            "810/810 [==============================] - 110s 135ms/step - loss: 3.6711 - masked_accuracy: 0.3821 - val_loss: 3.3796 - val_masked_accuracy: 0.4323\n",
            "Epoch 5/20\n",
            "810/810 [==============================] - 110s 135ms/step - loss: 3.1742 - masked_accuracy: 0.4434 - val_loss: 3.1210 - val_masked_accuracy: 0.4607\n",
            "Epoch 6/20\n",
            "810/810 [==============================] - 111s 137ms/step - loss: 2.7595 - masked_accuracy: 0.4956 - val_loss: 2.7234 - val_masked_accuracy: 0.5169\n",
            "Epoch 7/20\n",
            "810/810 [==============================] - 111s 136ms/step - loss: 2.4090 - masked_accuracy: 0.5431 - val_loss: 2.5757 - val_masked_accuracy: 0.5403\n",
            "Epoch 8/20\n",
            "810/810 [==============================] - 110s 136ms/step - loss: 2.1538 - masked_accuracy: 0.5783 - val_loss: 2.4673 - val_masked_accuracy: 0.5596\n",
            "Epoch 9/20\n",
            "810/810 [==============================] - 109s 134ms/step - loss: 1.9623 - masked_accuracy: 0.6056 - val_loss: 2.4304 - val_masked_accuracy: 0.5675\n",
            "Epoch 10/20\n",
            "810/810 [==============================] - 111s 137ms/step - loss: 1.8126 - masked_accuracy: 0.6277 - val_loss: 2.3824 - val_masked_accuracy: 0.5748\n",
            "Epoch 11/20\n",
            "810/810 [==============================] - 110s 136ms/step - loss: 1.6851 - masked_accuracy: 0.6475 - val_loss: 2.3753 - val_masked_accuracy: 0.5788\n",
            "Epoch 12/20\n",
            "810/810 [==============================] - 111s 136ms/step - loss: 1.5778 - masked_accuracy: 0.6638 - val_loss: 2.3835 - val_masked_accuracy: 0.5796\n",
            "Epoch 13/20\n",
            "810/810 [==============================] - 109s 135ms/step - loss: 1.4878 - masked_accuracy: 0.6775 - val_loss: 2.3906 - val_masked_accuracy: 0.5818\n",
            "Epoch 14/20\n",
            "810/810 [==============================] - 112s 137ms/step - loss: 1.4058 - masked_accuracy: 0.6908 - val_loss: 2.4223 - val_masked_accuracy: 0.5801\n",
            "Epoch 15/20\n",
            "810/810 [==============================] - 110s 135ms/step - loss: 1.3359 - masked_accuracy: 0.7024 - val_loss: 2.4502 - val_masked_accuracy: 0.5826\n",
            "Epoch 16/20\n",
            "810/810 [==============================] - 110s 135ms/step - loss: 1.2731 - masked_accuracy: 0.7122 - val_loss: 2.4720 - val_masked_accuracy: 0.5807\n",
            "Epoch 17/20\n",
            "810/810 [==============================] - 109s 134ms/step - loss: 1.2143 - masked_accuracy: 0.7230 - val_loss: 2.4988 - val_masked_accuracy: 0.5822\n",
            "Epoch 18/20\n",
            "810/810 [==============================] - 109s 134ms/step - loss: 1.1640 - masked_accuracy: 0.7311 - val_loss: 2.5543 - val_masked_accuracy: 0.5802\n",
            "Epoch 19/20\n",
            "810/810 [==============================] - 109s 135ms/step - loss: 1.1168 - masked_accuracy: 0.7393 - val_loss: 2.5797 - val_masked_accuracy: 0.5775\n",
            "Epoch 20/20\n",
            "810/810 [==============================] - 109s 134ms/step - loss: 1.0717 - masked_accuracy: 0.7477 - val_loss: 2.6087 - val_masked_accuracy: 0.5784\n"
          ]
        },
        {
          "output_type": "execute_result",
          "data": {
            "text/plain": [
              "<keras.callbacks.History at 0x7f4ce0088f10>"
            ]
          },
          "metadata": {},
          "execution_count": 23
        }
      ],
      "source": [
        "transformer_ex.fit(train_batches,\n",
        "                epochs=20,\n",
        "                validation_data=val_batches)"
      ]
    },
    {
      "cell_type": "code",
      "source": [
        "class Translator(tf.Module):\n",
        "  def __init__(self, tokenizers, transformer):\n",
        "    self.tokenizers = tokenizers\n",
        "    self.transformer = transformer\n",
        "\n",
        "  def __call__(self, sentence, max_length=max_sample_size):\n",
        "    # The input sentence is Portuguese, hence adding the `[START]` and `[END]` tokens.\n",
        "    assert isinstance(sentence, tf.Tensor)\n",
        "    if len(sentence.shape) == 0:\n",
        "      sentence = sentence[tf.newaxis]\n",
        "\n",
        "    sentence = self.tokenizers.ru.tokenize(sentence).to_tensor()\n",
        "\n",
        "    encoder_input = sentence\n",
        "\n",
        "    # As the output language is English, initialize the output with the\n",
        "    # English `[START]` token.\n",
        "    start_end = self.tokenizers.en.tokenize([''])[0]\n",
        "    start = start_end[0][tf.newaxis]\n",
        "    end = start_end[1][tf.newaxis]\n",
        "\n",
        "    # `tf.TensorArray` is required here (instead of a Python list), so that the\n",
        "    # dynamic-loop can be traced by `tf.function`.\n",
        "    output_array = tf.TensorArray(dtype=tf.int64, size=0, dynamic_size=True)\n",
        "    output_array = output_array.write(0, start)\n",
        "\n",
        "    for i in tf.range(max_length):\n",
        "      output = tf.transpose(output_array.stack())\n",
        "      predictions = self.transformer(encoder_input, output, training=False)\n",
        "\n",
        "      # Select the last token from the `seq_len` dimension.\n",
        "      predictions = predictions[:, -1:, :]  # Shape `(batch_size, 1, vocab_size)`.\n",
        "\n",
        "      predicted_id = tf.argmax(predictions, axis=-1)\n",
        "\n",
        "      # Concatenate the `predicted_id` to the output which is given to the\n",
        "      # decoder as its input.\n",
        "      output_array = output_array.write(i+1, predicted_id[0])\n",
        "\n",
        "      if predicted_id == end:\n",
        "        break\n",
        "\n",
        "    output = tf.transpose(output_array.stack())\n",
        "    # The output shape is `(1, tokens)`.\n",
        "    text = tokenizers.en.detokenize(output)[0]  # Shape: `()`.\n",
        "\n",
        "    tokens = tokenizers.en.lookup(output)[0]\n",
        "\n",
        "    # `tf.function` prevents us from using the attention_weights that were\n",
        "    # calculated on the last iteration of the loop.\n",
        "    # Therefore, recalculate them outside the loop.\n",
        "    # _, attention_weights = self.transformer([encoder_input, output[:,:-1]], training=False)\n",
        "\n",
        "    return text, tokens"
      ],
      "metadata": {
        "id": "Zh5OSlpd9V7s"
      },
      "execution_count": 24,
      "outputs": []
    },
    {
      "cell_type": "code",
      "source": [
        "def print_translation(sentence, tokens, ground_truth):\n",
        "  print(f'{\"Input:\":15s}: {sentence}')\n",
        "  print(f'{\"Prediction\":15s}: {tokens.numpy().decode(\"utf-8\")}')\n",
        "  print(f'{\"Ground truth\":15s}: {ground_truth}')"
      ],
      "metadata": {
        "id": "WK9HkWIp9aqJ"
      },
      "execution_count": 25,
      "outputs": []
    },
    {
      "cell_type": "code",
      "source": [
        "translator = Translator(tokenizers, transformer_ex)"
      ],
      "metadata": {
        "id": "NiQd5hkf9eBZ"
      },
      "execution_count": 26,
      "outputs": []
    },
    {
      "cell_type": "code",
      "source": [
        "def print_example():\n",
        "  sentence = 'esse é um problema que temos que resolver.'\n",
        "  ground_truth = 'this is a problem we have to solve .'\n",
        "\n",
        "  translated_text, translated_tokens = translator(\n",
        "      tf.constant(sentence))\n",
        "  print()\n",
        "  print_translation(sentence, translated_text, ground_truth)\n",
        "  print()\n",
        "\n",
        "  sentence = 'Essa festa é a melhor que eu já fui.'\n",
        "  ground_truth = 'This party is the best I have ever been to.'\n",
        "\n",
        "  translated_text, translated_tokens = translator(\n",
        "      tf.constant(sentence))\n",
        "  print()\n",
        "  print_translation(sentence, translated_text, ground_truth)\n",
        "  print()\n",
        "print_example()"
      ],
      "metadata": {
        "id": "prgNFMrE9ftd"
      },
      "execution_count": 27,
      "outputs": []
    }
  ],
  "metadata": {
    "accelerator": "GPU",
    "colab": {
      "provenance": [],
      "mount_file_id": "1G6F8N3_-OgNEnCJaoGsgeo8VDph1lWev",
      "authorship_tag": "ABX9TyMLhsHSYzoTnPaRyvrgs6x9",
      "include_colab_link": true
    },
    "kernelspec": {
      "display_name": "Python 3",
      "name": "python3"
    },
    "language_info": {
      "name": "python"
    }
  },
  "nbformat": 4,
  "nbformat_minor": 0
}