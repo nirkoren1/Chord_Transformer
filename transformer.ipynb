{
  "nbformat": 4,
  "nbformat_minor": 0,
  "metadata": {
    "colab": {
      "provenance": [],
      "authorship_tag": "ABX9TyP39EqQdGlZi3CTNss9FSOb",
      "include_colab_link": true
    },
    "kernelspec": {
      "name": "python3",
      "display_name": "Python 3"
    },
    "language_info": {
      "name": "python"
    }
  },
  "cells": [
    {
      "cell_type": "markdown",
      "metadata": {
        "id": "view-in-github",
        "colab_type": "text"
      },
      "source": [
        "<a href=\"https://colab.research.google.com/github/nirkoren1/Chord_Transformer/blob/master/transformer.ipynb\" target=\"_parent\"><img src=\"https://colab.research.google.com/assets/colab-badge.svg\" alt=\"Open In Colab\"/></a>"
      ]
    },
    {
      "cell_type": "code",
      "source": [
        "!pip install pickle5"
      ],
      "metadata": {
        "colab": {
          "base_uri": "https://localhost:8080/"
        },
        "id": "h35BRxmppGuF",
        "outputId": "bd00a266-21e3-4211-9f7d-49b20d199c76"
      },
      "execution_count": 14,
      "outputs": [
        {
          "output_type": "stream",
          "name": "stdout",
          "text": [
            "Looking in indexes: https://pypi.org/simple, https://us-python.pkg.dev/colab-wheels/public/simple/\n",
            "Collecting pickle5\n",
            "  Downloading pickle5-0.0.12-cp37-cp37m-manylinux_2_5_x86_64.manylinux1_x86_64.whl (256 kB)\n",
            "\u001b[K     |████████████████████████████████| 256 kB 17.4 MB/s \n",
            "\u001b[?25hInstalling collected packages: pickle5\n",
            "Successfully installed pickle5-0.0.12\n"
          ]
        }
      ]
    },
    {
      "cell_type": "code",
      "execution_count": 26,
      "metadata": {
        "id": "xpcjdEmHkU-T"
      },
      "outputs": [],
      "source": [
        "import tensorflow as tf\n",
        "import pickle\n",
        "import pandas as pd\n",
        "import numpy as np\n",
        "from tensorflow import keras\n",
        "from tensorflow.keras.layers import Dense, LayerNormalization, Dropout, Embedding\n",
        "from tensorflow.keras.optimizers import Adam\n",
        "import matplotlib.pyplot as plt\n",
        "from matplotlib import style"
      ]
    },
    {
      "cell_type": "code",
      "source": [
        "path_to_dictionary = r\"/content/tokens\"\n",
        "with open(path_to_dictionary, \"rb\") as f:\n",
        "  dictionary = pickle.load(f)\n",
        "dictionary"
      ],
      "metadata": {
        "id": "d9LznlwRl7y4"
      },
      "execution_count": null,
      "outputs": []
    },
    {
      "cell_type": "code",
      "source": [
        "path_to_data = r\"/content/data.pickle\"\n",
        "with open(path_to_data, \"rb\") as f:\n",
        "  data = pickle5.load(f)\n",
        "data"
      ],
      "metadata": {
        "colab": {
          "base_uri": "https://localhost:8080/",
          "height": 424
        },
        "id": "T5XOiiNQn-uU",
        "outputId": "6c6320ae-6656-4684-9cda-d40c4a98b6b0"
      },
      "execution_count": 31,
      "outputs": [
        {
          "output_type": "execute_result",
          "data": {
            "text/plain": [
              "                                                   genres  popularity  \\\n",
              "0                      [canadian pop, pop, post-teen pop]         100   \n",
              "1                      [canadian pop, pop, post-teen pop]         100   \n",
              "2                      [canadian pop, pop, post-teen pop]         100   \n",
              "3                      [canadian pop, pop, post-teen pop]         100   \n",
              "4                      [canadian pop, pop, post-teen pop]         100   \n",
              "...                                                   ...         ...   \n",
              "135777  [classic rock, folk, folk rock, melancholia, m...          76   \n",
              "135778  [classic rock, folk, folk rock, melancholia, m...          76   \n",
              "135780  [classic rock, folk, folk rock, melancholia, m...          76   \n",
              "135781  [classic rock, folk, folk rock, melancholia, m...          76   \n",
              "135782  [classic rock, folk, folk rock, melancholia, m...          76   \n",
              "\n",
              "                                                   chords  \\\n",
              "0       [G, G/B, B, C, G, G, G/B, B, C, G, G, Em, C, G...   \n",
              "1       [F#m7, D2, F#m7, D2, F#m7, D2, E, F#m7, A/C#, ...   \n",
              "2       [Em, D, C, C, D, Em, Em, D, C, C, D, Em, Em, D...   \n",
              "3       [Em, Bm, Am, C, Em, Bm, Am, C, Em, Bm, Am, C, ...   \n",
              "4       [Gm, Dm, C, C, Gm, Dm, C, C, Gm, Dm, C, C, Gm,...   \n",
              "...                                                   ...   \n",
              "135777  [C, Am, F, G, C, Am, F, G, C, Am, F, G, C, Am,...   \n",
              "135778  [B, E, B, E, B, E, F#, E, B, F#, E, B, E, B, E...   \n",
              "135780  [Dm, C, Dm, F, Bb, F, Bb, F, Bb, F, Dm, F, C, ...   \n",
              "135781  [G, Em, C, G, G, Am, C, D, G, Em, C, G, G, Am,...   \n",
              "135782  [D, F, G, F, D, F, G, F, D, F, G, F, D, F, G, ...   \n",
              "\n",
              "                                            training_data  \n",
              "0       [<start-genres>, canadian pop, pop, post-teen ...  \n",
              "1       [<start-genres>, canadian pop, pop, post-teen ...  \n",
              "2       [<start-genres>, canadian pop, pop, post-teen ...  \n",
              "3       [<start-genres>, canadian pop, pop, post-teen ...  \n",
              "4       [<start-genres>, canadian pop, pop, post-teen ...  \n",
              "...                                                   ...  \n",
              "135777  [<start-genres>, classic rock, folk, folk rock...  \n",
              "135778  [<start-genres>, classic rock, folk, folk rock...  \n",
              "135780  [<start-genres>, classic rock, folk, folk rock...  \n",
              "135781  [<start-genres>, classic rock, folk, folk rock...  \n",
              "135782  [<start-genres>, classic rock, folk, folk rock...  \n",
              "\n",
              "[116203 rows x 4 columns]"
            ],
            "text/html": [
              "\n",
              "  <div id=\"df-c2397d24-1621-498c-a8c4-a517f2483920\">\n",
              "    <div class=\"colab-df-container\">\n",
              "      <div>\n",
              "<style scoped>\n",
              "    .dataframe tbody tr th:only-of-type {\n",
              "        vertical-align: middle;\n",
              "    }\n",
              "\n",
              "    .dataframe tbody tr th {\n",
              "        vertical-align: top;\n",
              "    }\n",
              "\n",
              "    .dataframe thead th {\n",
              "        text-align: right;\n",
              "    }\n",
              "</style>\n",
              "<table border=\"1\" class=\"dataframe\">\n",
              "  <thead>\n",
              "    <tr style=\"text-align: right;\">\n",
              "      <th></th>\n",
              "      <th>genres</th>\n",
              "      <th>popularity</th>\n",
              "      <th>chords</th>\n",
              "      <th>training_data</th>\n",
              "    </tr>\n",
              "  </thead>\n",
              "  <tbody>\n",
              "    <tr>\n",
              "      <th>0</th>\n",
              "      <td>[canadian pop, pop, post-teen pop]</td>\n",
              "      <td>100</td>\n",
              "      <td>[G, G/B, B, C, G, G, G/B, B, C, G, G, Em, C, G...</td>\n",
              "      <td>[&lt;start-genres&gt;, canadian pop, pop, post-teen ...</td>\n",
              "    </tr>\n",
              "    <tr>\n",
              "      <th>1</th>\n",
              "      <td>[canadian pop, pop, post-teen pop]</td>\n",
              "      <td>100</td>\n",
              "      <td>[F#m7, D2, F#m7, D2, F#m7, D2, E, F#m7, A/C#, ...</td>\n",
              "      <td>[&lt;start-genres&gt;, canadian pop, pop, post-teen ...</td>\n",
              "    </tr>\n",
              "    <tr>\n",
              "      <th>2</th>\n",
              "      <td>[canadian pop, pop, post-teen pop]</td>\n",
              "      <td>100</td>\n",
              "      <td>[Em, D, C, C, D, Em, Em, D, C, C, D, Em, Em, D...</td>\n",
              "      <td>[&lt;start-genres&gt;, canadian pop, pop, post-teen ...</td>\n",
              "    </tr>\n",
              "    <tr>\n",
              "      <th>3</th>\n",
              "      <td>[canadian pop, pop, post-teen pop]</td>\n",
              "      <td>100</td>\n",
              "      <td>[Em, Bm, Am, C, Em, Bm, Am, C, Em, Bm, Am, C, ...</td>\n",
              "      <td>[&lt;start-genres&gt;, canadian pop, pop, post-teen ...</td>\n",
              "    </tr>\n",
              "    <tr>\n",
              "      <th>4</th>\n",
              "      <td>[canadian pop, pop, post-teen pop]</td>\n",
              "      <td>100</td>\n",
              "      <td>[Gm, Dm, C, C, Gm, Dm, C, C, Gm, Dm, C, C, Gm,...</td>\n",
              "      <td>[&lt;start-genres&gt;, canadian pop, pop, post-teen ...</td>\n",
              "    </tr>\n",
              "    <tr>\n",
              "      <th>...</th>\n",
              "      <td>...</td>\n",
              "      <td>...</td>\n",
              "      <td>...</td>\n",
              "      <td>...</td>\n",
              "    </tr>\n",
              "    <tr>\n",
              "      <th>135777</th>\n",
              "      <td>[classic rock, folk, folk rock, melancholia, m...</td>\n",
              "      <td>76</td>\n",
              "      <td>[C, Am, F, G, C, Am, F, G, C, Am, F, G, C, Am,...</td>\n",
              "      <td>[&lt;start-genres&gt;, classic rock, folk, folk rock...</td>\n",
              "    </tr>\n",
              "    <tr>\n",
              "      <th>135778</th>\n",
              "      <td>[classic rock, folk, folk rock, melancholia, m...</td>\n",
              "      <td>76</td>\n",
              "      <td>[B, E, B, E, B, E, F#, E, B, F#, E, B, E, B, E...</td>\n",
              "      <td>[&lt;start-genres&gt;, classic rock, folk, folk rock...</td>\n",
              "    </tr>\n",
              "    <tr>\n",
              "      <th>135780</th>\n",
              "      <td>[classic rock, folk, folk rock, melancholia, m...</td>\n",
              "      <td>76</td>\n",
              "      <td>[Dm, C, Dm, F, Bb, F, Bb, F, Bb, F, Dm, F, C, ...</td>\n",
              "      <td>[&lt;start-genres&gt;, classic rock, folk, folk rock...</td>\n",
              "    </tr>\n",
              "    <tr>\n",
              "      <th>135781</th>\n",
              "      <td>[classic rock, folk, folk rock, melancholia, m...</td>\n",
              "      <td>76</td>\n",
              "      <td>[G, Em, C, G, G, Am, C, D, G, Em, C, G, G, Am,...</td>\n",
              "      <td>[&lt;start-genres&gt;, classic rock, folk, folk rock...</td>\n",
              "    </tr>\n",
              "    <tr>\n",
              "      <th>135782</th>\n",
              "      <td>[classic rock, folk, folk rock, melancholia, m...</td>\n",
              "      <td>76</td>\n",
              "      <td>[D, F, G, F, D, F, G, F, D, F, G, F, D, F, G, ...</td>\n",
              "      <td>[&lt;start-genres&gt;, classic rock, folk, folk rock...</td>\n",
              "    </tr>\n",
              "  </tbody>\n",
              "</table>\n",
              "<p>116203 rows × 4 columns</p>\n",
              "</div>\n",
              "      <button class=\"colab-df-convert\" onclick=\"convertToInteractive('df-c2397d24-1621-498c-a8c4-a517f2483920')\"\n",
              "              title=\"Convert this dataframe to an interactive table.\"\n",
              "              style=\"display:none;\">\n",
              "        \n",
              "  <svg xmlns=\"http://www.w3.org/2000/svg\" height=\"24px\"viewBox=\"0 0 24 24\"\n",
              "       width=\"24px\">\n",
              "    <path d=\"M0 0h24v24H0V0z\" fill=\"none\"/>\n",
              "    <path d=\"M18.56 5.44l.94 2.06.94-2.06 2.06-.94-2.06-.94-.94-2.06-.94 2.06-2.06.94zm-11 1L8.5 8.5l.94-2.06 2.06-.94-2.06-.94L8.5 2.5l-.94 2.06-2.06.94zm10 10l.94 2.06.94-2.06 2.06-.94-2.06-.94-.94-2.06-.94 2.06-2.06.94z\"/><path d=\"M17.41 7.96l-1.37-1.37c-.4-.4-.92-.59-1.43-.59-.52 0-1.04.2-1.43.59L10.3 9.45l-7.72 7.72c-.78.78-.78 2.05 0 2.83L4 21.41c.39.39.9.59 1.41.59.51 0 1.02-.2 1.41-.59l7.78-7.78 2.81-2.81c.8-.78.8-2.07 0-2.86zM5.41 20L4 18.59l7.72-7.72 1.47 1.35L5.41 20z\"/>\n",
              "  </svg>\n",
              "      </button>\n",
              "      \n",
              "  <style>\n",
              "    .colab-df-container {\n",
              "      display:flex;\n",
              "      flex-wrap:wrap;\n",
              "      gap: 12px;\n",
              "    }\n",
              "\n",
              "    .colab-df-convert {\n",
              "      background-color: #E8F0FE;\n",
              "      border: none;\n",
              "      border-radius: 50%;\n",
              "      cursor: pointer;\n",
              "      display: none;\n",
              "      fill: #1967D2;\n",
              "      height: 32px;\n",
              "      padding: 0 0 0 0;\n",
              "      width: 32px;\n",
              "    }\n",
              "\n",
              "    .colab-df-convert:hover {\n",
              "      background-color: #E2EBFA;\n",
              "      box-shadow: 0px 1px 2px rgba(60, 64, 67, 0.3), 0px 1px 3px 1px rgba(60, 64, 67, 0.15);\n",
              "      fill: #174EA6;\n",
              "    }\n",
              "\n",
              "    [theme=dark] .colab-df-convert {\n",
              "      background-color: #3B4455;\n",
              "      fill: #D2E3FC;\n",
              "    }\n",
              "\n",
              "    [theme=dark] .colab-df-convert:hover {\n",
              "      background-color: #434B5C;\n",
              "      box-shadow: 0px 1px 3px 1px rgba(0, 0, 0, 0.15);\n",
              "      filter: drop-shadow(0px 1px 2px rgba(0, 0, 0, 0.3));\n",
              "      fill: #FFFFFF;\n",
              "    }\n",
              "  </style>\n",
              "\n",
              "      <script>\n",
              "        const buttonEl =\n",
              "          document.querySelector('#df-c2397d24-1621-498c-a8c4-a517f2483920 button.colab-df-convert');\n",
              "        buttonEl.style.display =\n",
              "          google.colab.kernel.accessAllowed ? 'block' : 'none';\n",
              "\n",
              "        async function convertToInteractive(key) {\n",
              "          const element = document.querySelector('#df-c2397d24-1621-498c-a8c4-a517f2483920');\n",
              "          const dataTable =\n",
              "            await google.colab.kernel.invokeFunction('convertToInteractive',\n",
              "                                                     [key], {});\n",
              "          if (!dataTable) return;\n",
              "\n",
              "          const docLinkHtml = 'Like what you see? Visit the ' +\n",
              "            '<a target=\"_blank\" href=https://colab.research.google.com/notebooks/data_table.ipynb>data table notebook</a>'\n",
              "            + ' to learn more about interactive tables.';\n",
              "          element.innerHTML = '';\n",
              "          dataTable['output_type'] = 'display_data';\n",
              "          await google.colab.output.renderOutput(dataTable, element);\n",
              "          const docLink = document.createElement('div');\n",
              "          docLink.innerHTML = docLinkHtml;\n",
              "          element.appendChild(docLink);\n",
              "        }\n",
              "      </script>\n",
              "    </div>\n",
              "  </div>\n",
              "  "
            ]
          },
          "metadata": {},
          "execution_count": 31
        }
      ]
    },
    {
      "cell_type": "code",
      "source": [
        "def tokenize(batch):\n",
        "  out = []\n",
        "  for sample in batch:\n",
        "    ids = []\n",
        "    for token in sample:\n",
        "      ids.append(dictionary[token])\n",
        "    out.append(sample)\n",
        "  return out\n",
        "\n",
        "example = data[\"training_data\"][0]\n",
        "print(tokenize([example]))"
      ],
      "metadata": {
        "colab": {
          "base_uri": "https://localhost:8080/"
        },
        "id": "9Dv4V6Mhvg9x",
        "outputId": "ac9b9a40-b087-4370-aa3d-01d0fbbc1139"
      },
      "execution_count": 34,
      "outputs": [
        {
          "output_type": "stream",
          "name": "stdout",
          "text": [
            "[['<start-genres>', 'canadian pop', 'pop', 'post-teen pop', '<start>', 'G', 'G/B', 'B', 'C', 'G', 'G', 'G/B', 'B', 'C', 'G', 'G', 'Em', 'C', 'G', 'G', 'Em', 'C', 'G', 'G', 'Em', 'C', 'G', 'G', 'Em', 'C', 'G', 'G', 'Em', 'C', 'G', 'G', 'Em', 'C', 'G', 'G', 'Em', 'C', 'G', 'G', 'G/B', 'B', 'C', 'G', 'G', 'G/B', 'B', 'C', 'G', 'G', 'Em', 'C', 'G', 'G', 'Em', 'C', 'G', 'G', 'Em', 'C', 'G', 'G', 'Em', 'C', 'G', 'G', 'Em', 'C', 'G', 'G', 'Em', 'C', 'G', 'G', 'Em', 'C', 'G', 'G', 'Em', 'C', 'G', 'B', 'Bm', 'C', 'Bm', 'C', 'G', 'Em', 'C', 'G', 'G', 'Em', 'C', 'G', 'G', 'Em', 'C', 'G', 'G', 'Em', 'C', 'G', 'G', 'Em', 'C', 'G', 'G', 'Em', 'C', 'G', 'G', 'Em', 'C', 'C', 'G', 'G', 'G', 'Em', 'C', 'G', '<end>']]\n"
          ]
        }
      ]
    }
  ]
}